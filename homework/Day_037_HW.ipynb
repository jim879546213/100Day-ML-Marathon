{
 "cells": [
  {
   "cell_type": "markdown",
   "metadata": {},
   "source": [
    "# [作業重點]\n",
    "了解線性回歸的模型發展歷程，並了解優勢與劣勢，以及其使用情境\n",
    "\n",
    "# 作業\n",
    "請閱讀以下相關文獻，並回答以下問題\n",
    "\n",
    "\n",
    "Linear Regression 詳細介紹\n",
    "\n",
    "\n",
    "Logistics Regression 詳細介紹\n",
    "\n",
    "\n",
    "1. 線性回歸模型能夠準確預測非線性關係的資料集嗎?\n",
    "\n",
    "\n",
    "2. 回歸模型是否對資料分布有基本假設?"
   ]
  },
  {
   "cell_type": "markdown",
   "metadata": {},
   "source": [
    "1. 預測非線性關係資料集效果比較差，不容易預測\n",
    "\n",
    "2. a.線性關係 b.隨機誤差項與自變數無關 c.常態性(應變數Yi~N(α+β*Xi, σ^2)) d.獨立性(殘差獨立性是指每一項殘差將不受其它殘差影響)"
   ]
  },
  {
   "cell_type": "code",
   "execution_count": null,
   "metadata": {},
   "outputs": [],
   "source": []
  }
 ],
 "metadata": {
  "kernelspec": {
   "display_name": "Python 3",
   "language": "python",
   "name": "python3"
  },
  "language_info": {
   "codemirror_mode": {
    "name": "ipython",
    "version": 3
   },
   "file_extension": ".py",
   "mimetype": "text/x-python",
   "name": "python",
   "nbconvert_exporter": "python",
   "pygments_lexer": "ipython3",
   "version": "3.6.8"
  }
 },
 "nbformat": 4,
 "nbformat_minor": 2
}
