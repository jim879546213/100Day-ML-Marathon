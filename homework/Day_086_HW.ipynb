{
 "cells": [
  {
   "cell_type": "code",
   "execution_count": 17,
   "metadata": {},
   "outputs": [],
   "source": [
    "import keras"
   ]
  },
  {
   "cell_type": "code",
   "execution_count": 18,
   "metadata": {},
   "outputs": [],
   "source": [
    "(x_train,y_train),(x_test,y_test) = keras.datasets.cifar10.load_data()"
   ]
  },
  {
   "cell_type": "code",
   "execution_count": 19,
   "metadata": {},
   "outputs": [],
   "source": [
    "def preproc_x(x, flatten=True):\n",
    "    x = x / 255.\n",
    "    if flatten:\n",
    "        x = x.reshape((len(x), -1))\n",
    "    return x\n",
    "\n",
    "def preproc_y(y, num_classes=10):\n",
    "    if y.shape[-1] == 1:\n",
    "        y = keras.utils.to_categorical(y, num_classes)\n",
    "    return y  "
   ]
  },
  {
   "cell_type": "code",
   "execution_count": 20,
   "metadata": {},
   "outputs": [],
   "source": [
    "x_train = preproc_x(x_train)\n",
    "x_test = preproc_x(x_test)\n",
    "\n",
    "y_train = preproc_y(y_train)\n",
    "y_test = preproc_y(y_test)"
   ]
  },
  {
   "cell_type": "code",
   "execution_count": 21,
   "metadata": {},
   "outputs": [],
   "source": [
    "from keras.layers import Input, Dense, BatchNormalization\n",
    "def build_mlp(input_shape, output_units=10, num_neurons=[512,256,128]):\n",
    "    input_layer = Input(input_shape)\n",
    "    \n",
    "    for i, num_unit in enumerate(num_neurons):\n",
    "        if i == 0:\n",
    "            x = Dense(units=num_unit, activation='relu', name='hidden_layer'+str(i+1))(input_layer)\n",
    "            x = BatchNormalization()(x)\n",
    "        else:\n",
    "            x = Dense(units=num_unit, activation='relu', name='hidden_layer'+str(i+1))(x)\n",
    "            x = BatchNormalization()(x)\n",
    "    out = Dense(units=output_units, activation='softmax', name='output')(x)\n",
    "    model = keras.models.Model(inputs=[input_layer], outputs=[out])\n",
    "    return model"
   ]
  },
  {
   "cell_type": "code",
   "execution_count": 22,
   "metadata": {},
   "outputs": [],
   "source": [
    "LEARNING_RATE = 1e-3\n",
    "EPOCHS = 50\n",
    "BATCH_SIZE = 1024\n",
    "MOMENTUM = 0.95"
   ]
  },
  {
   "cell_type": "code",
   "execution_count": 24,
   "metadata": {},
   "outputs": [],
   "source": [
    "# 載入 Callbacks, 並將 monitor 設定為監控 validation loss\n",
    "from keras.callbacks import ModelCheckpoint\n",
    "\n",
    "model_ckpt = ModelCheckpoint(filepath='./tmp.h5', monitor='val_loss', save_best_only=True)"
   ]
  },
  {
   "cell_type": "code",
   "execution_count": 26,
   "metadata": {},
   "outputs": [
    {
     "name": "stdout",
     "output_type": "stream",
     "text": [
      "_________________________________________________________________\n",
      "Layer (type)                 Output Shape              Param #   \n",
      "=================================================================\n",
      "input_4 (InputLayer)         (None, 3072)              0         \n",
      "_________________________________________________________________\n",
      "hidden_layer1 (Dense)        (None, 512)               1573376   \n",
      "_________________________________________________________________\n",
      "batch_normalization_10 (Batc (None, 512)               2048      \n",
      "_________________________________________________________________\n",
      "hidden_layer2 (Dense)        (None, 256)               131328    \n",
      "_________________________________________________________________\n",
      "batch_normalization_11 (Batc (None, 256)               1024      \n",
      "_________________________________________________________________\n",
      "hidden_layer3 (Dense)        (None, 128)               32896     \n",
      "_________________________________________________________________\n",
      "batch_normalization_12 (Batc (None, 128)               512       \n",
      "_________________________________________________________________\n",
      "output (Dense)               (None, 10)                1290      \n",
      "=================================================================\n",
      "Total params: 1,742,474\n",
      "Trainable params: 1,740,682\n",
      "Non-trainable params: 1,792\n",
      "_________________________________________________________________\n",
      "Train on 50000 samples, validate on 10000 samples\n",
      "Epoch 1/50\n",
      "50000/50000 [==============================] - 5s 95us/step - loss: 2.2062 - acc: 0.2745 - val_loss: 2.0896 - val_acc: 0.3204\n",
      "Epoch 2/50\n",
      "50000/50000 [==============================] - 3s 70us/step - loss: 1.7545 - acc: 0.3887 - val_loss: 1.8405 - val_acc: 0.3817\n",
      "Epoch 3/50\n",
      "50000/50000 [==============================] - 3s 68us/step - loss: 1.6261 - acc: 0.4329 - val_loss: 1.7011 - val_acc: 0.4117\n",
      "Epoch 4/50\n",
      "50000/50000 [==============================] - 3s 69us/step - loss: 1.5495 - acc: 0.4598 - val_loss: 1.6394 - val_acc: 0.4260\n",
      "Epoch 5/50\n",
      "50000/50000 [==============================] - 4s 70us/step - loss: 1.4947 - acc: 0.4780 - val_loss: 1.6026 - val_acc: 0.4413\n",
      "Epoch 6/50\n",
      "50000/50000 [==============================] - 3s 69us/step - loss: 1.4499 - acc: 0.4941 - val_loss: 1.5734 - val_acc: 0.4515\n",
      "Epoch 7/50\n",
      "50000/50000 [==============================] - 4s 71us/step - loss: 1.4101 - acc: 0.5087 - val_loss: 1.5531 - val_acc: 0.4539\n",
      "Epoch 8/50\n",
      "50000/50000 [==============================] - 4s 74us/step - loss: 1.3741 - acc: 0.5218 - val_loss: 1.5297 - val_acc: 0.4649\n",
      "Epoch 9/50\n",
      "50000/50000 [==============================] - 4s 72us/step - loss: 1.3401 - acc: 0.5336 - val_loss: 1.5088 - val_acc: 0.4680\n",
      "Epoch 10/50\n",
      "50000/50000 [==============================] - 4s 73us/step - loss: 1.3123 - acc: 0.5444 - val_loss: 1.5074 - val_acc: 0.4709\n",
      "Epoch 11/50\n",
      "50000/50000 [==============================] - 4s 74us/step - loss: 1.2824 - acc: 0.5554 - val_loss: 1.5077 - val_acc: 0.4737\n",
      "Epoch 12/50\n",
      "50000/50000 [==============================] - 4s 77us/step - loss: 1.2562 - acc: 0.5654 - val_loss: 1.4993 - val_acc: 0.4711\n",
      "Epoch 13/50\n",
      "50000/50000 [==============================] - 4s 76us/step - loss: 1.2301 - acc: 0.5746 - val_loss: 1.4749 - val_acc: 0.4804\n",
      "Epoch 14/50\n",
      "50000/50000 [==============================] - 4s 75us/step - loss: 1.2066 - acc: 0.5826 - val_loss: 1.4705 - val_acc: 0.4841\n",
      "Epoch 15/50\n",
      "50000/50000 [==============================] - 4s 78us/step - loss: 1.1808 - acc: 0.5933 - val_loss: 1.4691 - val_acc: 0.4880\n",
      "Epoch 16/50\n",
      "50000/50000 [==============================] - 4s 77us/step - loss: 1.1566 - acc: 0.6021 - val_loss: 1.4681 - val_acc: 0.4877\n",
      "Epoch 17/50\n",
      "50000/50000 [==============================] - 4s 77us/step - loss: 1.1350 - acc: 0.6113 - val_loss: 1.4603 - val_acc: 0.4892\n",
      "Epoch 18/50\n",
      "50000/50000 [==============================] - 4s 75us/step - loss: 1.1105 - acc: 0.6205 - val_loss: 1.4528 - val_acc: 0.4936\n",
      "Epoch 19/50\n",
      "50000/50000 [==============================] - 4s 79us/step - loss: 1.0879 - acc: 0.6287 - val_loss: 1.4655 - val_acc: 0.4941\n",
      "Epoch 20/50\n",
      "50000/50000 [==============================] - 4s 76us/step - loss: 1.0683 - acc: 0.6355 - val_loss: 1.4607 - val_acc: 0.4931\n",
      "Epoch 21/50\n",
      "50000/50000 [==============================] - 4s 75us/step - loss: 1.0435 - acc: 0.6429 - val_loss: 1.4648 - val_acc: 0.4910\n",
      "Epoch 22/50\n",
      "50000/50000 [==============================] - 4s 77us/step - loss: 1.0244 - acc: 0.6529 - val_loss: 1.4604 - val_acc: 0.4951\n",
      "Epoch 23/50\n",
      "50000/50000 [==============================] - 4s 72us/step - loss: 1.0028 - acc: 0.6605 - val_loss: 1.4690 - val_acc: 0.4936\n",
      "Epoch 24/50\n",
      "50000/50000 [==============================] - 4s 74us/step - loss: 0.9842 - acc: 0.6671 - val_loss: 1.4590 - val_acc: 0.4987\n",
      "Epoch 25/50\n",
      "50000/50000 [==============================] - 4s 74us/step - loss: 0.9614 - acc: 0.6781 - val_loss: 1.4847 - val_acc: 0.4887\n",
      "Epoch 26/50\n",
      "50000/50000 [==============================] - 4s 75us/step - loss: 0.9440 - acc: 0.6823 - val_loss: 1.4719 - val_acc: 0.4988\n",
      "Epoch 27/50\n",
      "50000/50000 [==============================] - 4s 75us/step - loss: 0.9216 - acc: 0.6914 - val_loss: 1.4933 - val_acc: 0.4993\n",
      "Epoch 28/50\n",
      "50000/50000 [==============================] - 4s 74us/step - loss: 0.9012 - acc: 0.6996 - val_loss: 1.4835 - val_acc: 0.4932\n",
      "Epoch 29/50\n",
      "50000/50000 [==============================] - 4s 75us/step - loss: 0.8807 - acc: 0.7086 - val_loss: 1.4783 - val_acc: 0.5010\n",
      "Epoch 30/50\n",
      "50000/50000 [==============================] - 4s 74us/step - loss: 0.8619 - acc: 0.7141 - val_loss: 1.4981 - val_acc: 0.4929\n",
      "Epoch 31/50\n",
      "50000/50000 [==============================] - 4s 75us/step - loss: 0.8425 - acc: 0.7223 - val_loss: 1.4941 - val_acc: 0.4934\n",
      "Epoch 32/50\n",
      "50000/50000 [==============================] - 4s 76us/step - loss: 0.8234 - acc: 0.7306 - val_loss: 1.5030 - val_acc: 0.4926\n",
      "Epoch 33/50\n",
      "50000/50000 [==============================] - 4s 76us/step - loss: 0.8040 - acc: 0.7381 - val_loss: 1.5105 - val_acc: 0.4959\n",
      "Epoch 34/50\n",
      "50000/50000 [==============================] - 4s 76us/step - loss: 0.7823 - acc: 0.7463 - val_loss: 1.5212 - val_acc: 0.4891\n",
      "Epoch 35/50\n",
      "50000/50000 [==============================] - 4s 76us/step - loss: 0.7653 - acc: 0.7527 - val_loss: 1.5244 - val_acc: 0.4983\n",
      "Epoch 36/50\n",
      "50000/50000 [==============================] - 4s 78us/step - loss: 0.7454 - acc: 0.7605 - val_loss: 1.5422 - val_acc: 0.4940\n",
      "Epoch 37/50\n",
      "50000/50000 [==============================] - 4s 77us/step - loss: 0.7272 - acc: 0.7688 - val_loss: 1.5412 - val_acc: 0.4910\n",
      "Epoch 38/50\n",
      "50000/50000 [==============================] - 4s 77us/step - loss: 0.7077 - acc: 0.7753 - val_loss: 1.5388 - val_acc: 0.4984\n",
      "Epoch 39/50\n",
      "50000/50000 [==============================] - 4s 77us/step - loss: 0.6899 - acc: 0.7833 - val_loss: 1.5695 - val_acc: 0.4899\n",
      "Epoch 40/50\n",
      "50000/50000 [==============================] - 4s 78us/step - loss: 0.6703 - acc: 0.7904 - val_loss: 1.5609 - val_acc: 0.4915\n",
      "Epoch 41/50\n",
      "50000/50000 [==============================] - 4s 77us/step - loss: 0.6523 - acc: 0.7989 - val_loss: 1.5746 - val_acc: 0.4919\n",
      "Epoch 42/50\n",
      "50000/50000 [==============================] - 4s 78us/step - loss: 0.6350 - acc: 0.8042 - val_loss: 1.5929 - val_acc: 0.4879\n",
      "Epoch 43/50\n",
      "50000/50000 [==============================] - 4s 78us/step - loss: 0.6168 - acc: 0.8127 - val_loss: 1.6014 - val_acc: 0.4946\n",
      "Epoch 44/50\n",
      "50000/50000 [==============================] - 4s 79us/step - loss: 0.5995 - acc: 0.8199 - val_loss: 1.6285 - val_acc: 0.4832\n",
      "Epoch 45/50\n",
      "50000/50000 [==============================] - 4s 78us/step - loss: 0.5832 - acc: 0.8260 - val_loss: 1.6476 - val_acc: 0.4819\n",
      "Epoch 46/50\n",
      "50000/50000 [==============================] - 4s 78us/step - loss: 0.5637 - acc: 0.8325 - val_loss: 1.6495 - val_acc: 0.4922\n",
      "Epoch 47/50\n",
      "50000/50000 [==============================] - 4s 79us/step - loss: 0.5454 - acc: 0.8412 - val_loss: 1.6601 - val_acc: 0.4907\n",
      "Epoch 48/50\n",
      "50000/50000 [==============================] - 4s 79us/step - loss: 0.5326 - acc: 0.8454 - val_loss: 1.7048 - val_acc: 0.4840\n",
      "Epoch 49/50\n",
      "50000/50000 [==============================] - 4s 80us/step - loss: 0.5138 - acc: 0.8544 - val_loss: 1.6937 - val_acc: 0.4888\n"
     ]
    },
    {
     "name": "stdout",
     "output_type": "stream",
     "text": [
      "Epoch 50/50\n",
      "50000/50000 [==============================] - 4s 72us/step - loss: 0.4969 - acc: 0.8618 - val_loss: 1.6939 - val_acc: 0.4899\n",
      "10000/10000 [==============================] - 1s 106us/step\n"
     ]
    }
   ],
   "source": [
    "model = build_mlp(input_shape=x_train.shape[1:])\n",
    "model.summary()\n",
    "optimizer = keras.optimizers.SGD(lr=LEARNING_RATE, nesterov=True, momentum=MOMENTUM)\n",
    "model.compile(loss='categorical_crossentropy', metrics=['accuracy'], optimizer=optimizer)\n",
    "\n",
    "model.fit(x_train,y_train, epochs=EPOCHS, batch_size=BATCH_SIZE\n",
    "          , validation_data=(x_test,y_test),shuffle=True,callbacks=[model_ckpt])\n",
    "\n",
    "train_loss = model.history.history['loss']\n",
    "valid_loss = model.history.history['val_loss']\n",
    "train_acc = model.history.history['acc']\n",
    "valid_acc = model.history.history['val_acc']\n",
    "\n",
    "#load back\n",
    "model = keras.models.load_model('./tmp.h5')\n",
    "loss_loadback, acc_loadback = model.evaluate(x_test, y_test)"
   ]
  },
  {
   "cell_type": "code",
   "execution_count": 30,
   "metadata": {},
   "outputs": [
    {
     "data": {
      "image/png": "[encoded data removed]",
      "text/plain": [
       "<Figure size 432x288 with 1 Axes>"
      ]
     },
     "metadata": {
      "needs_background": "light"
     },
     "output_type": "display_data"
    },
    {
     "data": {
      "image/png": "[encoded data removed]",
      "text/plain": [
       "<Figure size 432x288 with 1 Axes>"
      ]
     },
     "metadata": {
      "needs_background": "light"
     },
     "output_type": "display_data"
    }
   ],
   "source": [
    "import matplotlib.pyplot as plt\n",
    "%matplotlib inline\n",
    "\n",
    "plt.plot(range(len(train_loss)), train_loss, label=\"train loss\")\n",
    "plt.plot(range(len(valid_loss)), valid_loss, label=\"valid loss\")\n",
    "plt.hlines(y=loss_loadback, xmin=0, xmax=len(train_loss), color='r', linestyles='--')\n",
    "plt.legend()\n",
    "plt.title(\"Loss\")\n",
    "plt.show()\n",
    "\n",
    "plt.plot(range(len(train_acc)), train_acc, label=\"train accuracy\")\n",
    "plt.plot(range(len(valid_acc)), valid_acc, label=\"valid accuracy\")\n",
    "plt.hlines(y=acc_loadback, xmin=0, xmax=len(train_acc), color='r', linestyles='--')\n",
    "plt.legend()\n",
    "plt.title(\"Accuracy\")\n",
    "plt.show()\n"
   ]
  },
  {
   "cell_type": "code",
   "execution_count": null,
   "metadata": {},
   "outputs": [],
   "source": []
  }
 ],
 "metadata": {
  "kernelspec": {
   "display_name": "Python 3",
   "language": "python",
   "name": "python3"
  },
  "language_info": {
   "codemirror_mode": {
    "name": "ipython",
    "version": 3
   },
   "file_extension": ".py",
   "mimetype": "text/x-python",
   "name": "python",
   "nbconvert_exporter": "python",
   "pygments_lexer": "ipython3",
   "version": "3.6.9"
  }
 },
 "nbformat": 4,
 "nbformat_minor": 2
}
