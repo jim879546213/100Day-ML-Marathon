{
 "cells": [
  {
   "cell_type": "code",
   "execution_count": 3,
   "metadata": {},
   "outputs": [],
   "source": [
    "import keras"
   ]
  },
  {
   "cell_type": "code",
   "execution_count": 4,
   "metadata": {},
   "outputs": [],
   "source": [
    "(x_train,y_train),(x_test,y_test) = keras.datasets.cifar10.load_data()"
   ]
  },
  {
   "cell_type": "code",
   "execution_count": 5,
   "metadata": {},
   "outputs": [],
   "source": [
    "def preproc_x(x, flatten=True):\n",
    "    x = x / 255.\n",
    "    if flatten:\n",
    "        x = x.reshape((len(x), -1))\n",
    "    return x\n",
    "\n",
    "def preproc_y(y, num_classes=10):\n",
    "    if y.shape[-1] == 1:\n",
    "        y = keras.utils.to_categorical(y, num_classes)\n",
    "    return y  "
   ]
  },
  {
   "cell_type": "code",
   "execution_count": 111,
   "metadata": {},
   "outputs": [],
   "source": [
    "x_train = preproc_x(x_train)\n",
    "x_test = preproc_x(x_test)\n",
    "\n",
    "y_train = preproc_y(y_train)\n",
    "y_test = preproc_y(y_test)"
   ]
  },
  {
   "cell_type": "code",
   "execution_count": 7,
   "metadata": {},
   "outputs": [],
   "source": [
    "from keras.layers import Input, Dense, BatchNormalization\n",
    "def build_mlp(input_shape, output_units=10, num_neurons=[512,256,128]):\n",
    "    input_layer = Input(input_shape)\n",
    "    \n",
    "    for i, num_unit in enumerate(num_neurons):\n",
    "        if i == 0:\n",
    "            x = Dense(units=num_unit, activation='relu', name='hidden_layer'+str(i+1))(input_layer)\n",
    "            x = BatchNormalization()(x)\n",
    "        else:\n",
    "            x = Dense(units=num_unit, activation='relu', name='hidden_layer'+str(i+1))(x)\n",
    "            x = BatchNormalization()(x)\n",
    "    out = Dense(units=output_units, activation='softmax', name='output')(x)\n",
    "    model = keras.models.Model(inputs=[input_layer], outputs=[out])\n",
    "    return model"
   ]
  },
  {
   "cell_type": "code",
   "execution_count": 8,
   "metadata": {},
   "outputs": [],
   "source": [
    "LEARNING_RATE = 1e-3\n",
    "EPOCHS = 50\n",
    "BATCH_SIZE = 1024\n",
    "MOMENTUM = 0.95"
   ]
  },
  {
   "cell_type": "code",
   "execution_count": 63,
   "metadata": {},
   "outputs": [],
   "source": [
    "def boolMap(arr):\n",
    "    if arr >= 0.5:\n",
    "        return 1\n",
    "    else:\n",
    "        return 0"
   ]
  },
  {
   "cell_type": "code",
   "execution_count": 173,
   "metadata": {},
   "outputs": [],
   "source": [
    "# 載入 Callbacks, 並將 monitor 設定為監控 validation loss\n",
    "from keras.callbacks import Callback\n",
    "from sklearn.metrics import f1_score, confusion_matrix\n",
    "import numpy as np\n",
    "class f1sc(Callback):\n",
    "    def on_train_begin(self, epoch, logs={}):\n",
    "        #logs参数，这个参数是一个字典，里面包好前一个批量、前一个轮次或前一次训练的信息（训练的指标和验证指标等)\n",
    "        logs = logs or {}\n",
    "        record_items = ['val_auc', 'val_f1sc', 'val_fp', 'val_fn', 'val_tp', 'val_tn']\n",
    "        for i in record_items:\n",
    "            if i not in self.params['metrics']:\n",
    "                self.params['metrics'].append(i)\n",
    "        #params: 字典。训练参数， (例如，verbosity, batch size, number of epochs...)\n",
    "    def on_epoch_end(self, epoch, logs={}):\n",
    "        logs = logs or {}\n",
    "        \n",
    "        #self.validation_data：传入fit作为验证数据的值\n",
    "        y_true = self.validation_data[1].argmax(axis=1)\n",
    "        #self.validation_data[1] = y_test\n",
    "        #.argmax: 返回沿轴axis最大值的索引 (https://blog.csdn.net/u013713117/article/details/53965572)\n",
    "        \n",
    "        #self.model：调用回调函数的模型实例\n",
    "        y_pred = self.model.predict(self.validation_data[0]).argmax(axis=1)\n",
    "        #self.validation_data[0] = x_test \n",
    "        # -> y_pred = model.predict(x_test) == self.model.predict(self.validation_data[0])\n",
    "        \n",
    "        \n",
    "         \n",
    "        logs['val_f1sc']=f1_score(y_true=y_true, y_pred=y_pred, average='weighted')\n",
    "\n",
    "class Record_tp_tn(Callback):\n",
    "    def on_train_begin(self, epoch, logs={}):\n",
    "        logs = logs or {}\n",
    "        record_items = ['val_auc', 'val_f1sc', 'val_fp', 'val_fn', 'val_tp', 'val_tn', 'val_tpr']\n",
    "        for i in record_items:\n",
    "            if i not in self.params['metrics']:\n",
    "                self.params['metrics'].append(i)\n",
    "    def on_epoch_end(self, epoch, logs={}):\n",
    "        logs = logs or {}\n",
    "        y_true = self.validation_data[1].argmax(axis=1)\n",
    "        y_pred = self.model.predict(self.validation_data[0]).argmax(axis=1)\n",
    "        cm = confusion_matrix(y_true, y_pred)\n",
    "        logs['val_tp'] = np.sum(np.diag(cm))\n",
    "        logs['val_tpr'] = np.sum(np.diag(cm))/len(self.validation_data[0])\n",
    "    \n",
    "log_f1sc = f1sc()\n",
    "rec_tptn = Record_tp_tn()"
   ]
  },
  {
   "cell_type": "code",
   "execution_count": 174,
   "metadata": {
    "scrolled": true
   },
   "outputs": [
    {
     "name": "stdout",
     "output_type": "stream",
     "text": [
      "_________________________________________________________________\n",
      "Layer (type)                 Output Shape              Param #   \n",
      "=================================================================\n",
      "input_20 (InputLayer)        (None, 3072)              0         \n",
      "_________________________________________________________________\n",
      "hidden_layer1 (Dense)        (None, 512)               1573376   \n",
      "_________________________________________________________________\n",
      "batch_normalization_58 (Batc (None, 512)               2048      \n",
      "_________________________________________________________________\n",
      "hidden_layer2 (Dense)        (None, 256)               131328    \n",
      "_________________________________________________________________\n",
      "batch_normalization_59 (Batc (None, 256)               1024      \n",
      "_________________________________________________________________\n",
      "hidden_layer3 (Dense)        (None, 128)               32896     \n",
      "_________________________________________________________________\n",
      "batch_normalization_60 (Batc (None, 128)               512       \n",
      "_________________________________________________________________\n",
      "output (Dense)               (None, 10)                1290      \n",
      "=================================================================\n",
      "Total params: 1,742,474\n",
      "Trainable params: 1,740,682\n",
      "Non-trainable params: 1,792\n",
      "_________________________________________________________________\n",
      "Train on 50000 samples, validate on 10000 samples\n",
      "Epoch 1/50\n",
      "50000/50000 [==============================] - 8s 151us/step - loss: 2.0708 - acc: 0.2922 - val_loss: 9.1314 - val_acc: 0.1023\n",
      "Epoch 2/50\n",
      " 2048/50000 [>.............................] - ETA: 4s - loss: 1.7686 - acc: 0.3691"
     ]
    },
    {
     "name": "stderr",
     "output_type": "stream",
     "text": [
      "C:\\Users\\User\\Anaconda3\\envs\\DL\\lib\\site-packages\\sklearn\\metrics\\classification.py:1437: UndefinedMetricWarning: F-score is ill-defined and being set to 0.0 in labels with no predicted samples.\n",
      "  'precision', 'predicted', average, warn_for)\n"
     ]
    },
    {
     "name": "stdout",
     "output_type": "stream",
     "text": [
      "50000/50000 [==============================] - 5s 90us/step - loss: 1.7269 - acc: 0.3914 - val_loss: 6.1120 - val_acc: 0.1163\n",
      "Epoch 3/50\n",
      "50000/50000 [==============================] - 4s 86us/step - loss: 1.6246 - acc: 0.4307 - val_loss: 3.7352 - val_acc: 0.1496\n",
      "Epoch 4/50\n",
      "50000/50000 [==============================] - 5s 91us/step - loss: 1.5645 - acc: 0.4530 - val_loss: 2.3267 - val_acc: 0.2643\n",
      "Epoch 5/50\n",
      "50000/50000 [==============================] - 5s 92us/step - loss: 1.5189 - acc: 0.4688 - val_loss: 1.8470 - val_acc: 0.3696\n",
      "Epoch 6/50\n",
      "50000/50000 [==============================] - 4s 86us/step - loss: 1.4799 - acc: 0.4839 - val_loss: 1.6455 - val_acc: 0.4193\n",
      "Epoch 7/50\n",
      "50000/50000 [==============================] - 4s 85us/step - loss: 1.4481 - acc: 0.4975 - val_loss: 1.5911 - val_acc: 0.4412\n",
      "Epoch 8/50\n",
      "50000/50000 [==============================] - 5s 90us/step - loss: 1.4183 - acc: 0.5072 - val_loss: 1.5303 - val_acc: 0.4570\n",
      "Epoch 9/50\n",
      "50000/50000 [==============================] - 4s 88us/step - loss: 1.3927 - acc: 0.5172 - val_loss: 1.5012 - val_acc: 0.4691\n",
      "Epoch 10/50\n",
      "50000/50000 [==============================] - 5s 92us/step - loss: 1.3700 - acc: 0.5249 - val_loss: 1.4926 - val_acc: 0.4738\n",
      "Epoch 11/50\n",
      "50000/50000 [==============================] - 5s 94us/step - loss: 1.3476 - acc: 0.5323 - val_loss: 1.4763 - val_acc: 0.4757\n",
      "Epoch 12/50\n",
      "50000/50000 [==============================] - 4s 89us/step - loss: 1.3260 - acc: 0.5396 - val_loss: 1.4750 - val_acc: 0.4776\n",
      "Epoch 13/50\n",
      "50000/50000 [==============================] - 4s 89us/step - loss: 1.3076 - acc: 0.5467 - val_loss: 1.4706 - val_acc: 0.4831\n",
      "Epoch 14/50\n",
      "50000/50000 [==============================] - 4s 89us/step - loss: 1.2883 - acc: 0.5538 - val_loss: 1.4595 - val_acc: 0.4841\n",
      "Epoch 15/50\n",
      "50000/50000 [==============================] - 4s 87us/step - loss: 1.2710 - acc: 0.5591 - val_loss: 1.4569 - val_acc: 0.4878\n",
      "Epoch 16/50\n",
      "50000/50000 [==============================] - 4s 88us/step - loss: 1.2543 - acc: 0.5671 - val_loss: 1.4747 - val_acc: 0.4754\n",
      "Epoch 17/50\n",
      "50000/50000 [==============================] - 4s 86us/step - loss: 1.2371 - acc: 0.5708 - val_loss: 1.4864 - val_acc: 0.4662\n",
      "Epoch 18/50\n",
      "50000/50000 [==============================] - 4s 87us/step - loss: 1.2186 - acc: 0.5781 - val_loss: 1.4599 - val_acc: 0.4823\n",
      "Epoch 19/50\n",
      "50000/50000 [==============================] - 5s 91us/step - loss: 1.2027 - acc: 0.5830 - val_loss: 1.4707 - val_acc: 0.4762\n",
      "Epoch 20/50\n",
      "50000/50000 [==============================] - 5s 95us/step - loss: 1.1884 - acc: 0.5887 - val_loss: 1.4372 - val_acc: 0.4937\n",
      "Epoch 21/50\n",
      "50000/50000 [==============================] - 5s 98us/step - loss: 1.1727 - acc: 0.5947 - val_loss: 1.4233 - val_acc: 0.4978\n",
      "Epoch 22/50\n",
      "50000/50000 [==============================] - 4s 89us/step - loss: 1.1584 - acc: 0.6020 - val_loss: 1.4680 - val_acc: 0.4816\n",
      "Epoch 23/50\n",
      "50000/50000 [==============================] - 4s 88us/step - loss: 1.1434 - acc: 0.6069 - val_loss: 1.4774 - val_acc: 0.4797\n",
      "Epoch 24/50\n",
      "50000/50000 [==============================] - 5s 91us/step - loss: 1.1299 - acc: 0.6116 - val_loss: 1.4528 - val_acc: 0.4881\n",
      "Epoch 25/50\n",
      "50000/50000 [==============================] - 5s 98us/step - loss: 1.1142 - acc: 0.6163 - val_loss: 1.4688 - val_acc: 0.4814\n",
      "Epoch 26/50\n",
      "50000/50000 [==============================] - 5s 91us/step - loss: 1.1006 - acc: 0.6218 - val_loss: 1.4218 - val_acc: 0.4987\n",
      "Epoch 27/50\n",
      "50000/50000 [==============================] - 4s 88us/step - loss: 1.0868 - acc: 0.6269 - val_loss: 1.4265 - val_acc: 0.4950\n",
      "Epoch 28/50\n",
      "50000/50000 [==============================] - 4s 88us/step - loss: 1.0724 - acc: 0.6314 - val_loss: 1.4194 - val_acc: 0.5031\n",
      "Epoch 29/50\n",
      "50000/50000 [==============================] - 4s 88us/step - loss: 1.0594 - acc: 0.6376 - val_loss: 1.4199 - val_acc: 0.4994\n",
      "Epoch 30/50\n",
      "50000/50000 [==============================] - 4s 89us/step - loss: 1.0461 - acc: 0.6418 - val_loss: 1.4115 - val_acc: 0.5060\n",
      "Epoch 31/50\n",
      "50000/50000 [==============================] - 4s 89us/step - loss: 1.0318 - acc: 0.6469 - val_loss: 1.4204 - val_acc: 0.5015\n",
      "Epoch 32/50\n",
      "50000/50000 [==============================] - 4s 89us/step - loss: 1.0179 - acc: 0.6543 - val_loss: 1.4389 - val_acc: 0.4909\n",
      "Epoch 33/50\n",
      "50000/50000 [==============================] - 4s 89us/step - loss: 1.0054 - acc: 0.6570 - val_loss: 1.4164 - val_acc: 0.5029\n",
      "Epoch 34/50\n",
      "50000/50000 [==============================] - 4s 90us/step - loss: 0.9907 - acc: 0.6642 - val_loss: 1.4541 - val_acc: 0.4934\n",
      "Epoch 35/50\n",
      "50000/50000 [==============================] - 4s 89us/step - loss: 0.9768 - acc: 0.6691 - val_loss: 1.4556 - val_acc: 0.4934\n",
      "Epoch 36/50\n",
      "50000/50000 [==============================] - 4s 90us/step - loss: 0.9633 - acc: 0.6742 - val_loss: 1.4638 - val_acc: 0.4860\n",
      "Epoch 37/50\n",
      "50000/50000 [==============================] - 4s 90us/step - loss: 0.9530 - acc: 0.6758 - val_loss: 1.4464 - val_acc: 0.4972\n",
      "Epoch 38/50\n",
      "50000/50000 [==============================] - 5s 90us/step - loss: 0.9393 - acc: 0.6836 - val_loss: 1.4434 - val_acc: 0.4973\n",
      "Epoch 39/50\n",
      "50000/50000 [==============================] - 4s 90us/step - loss: 0.9274 - acc: 0.6864 - val_loss: 1.4582 - val_acc: 0.4959\n",
      "Epoch 40/50\n",
      "50000/50000 [==============================] - 5s 91us/step - loss: 0.9134 - acc: 0.6944 - val_loss: 1.4481 - val_acc: 0.5011\n",
      "Epoch 41/50\n",
      "50000/50000 [==============================] - 4s 90us/step - loss: 0.8997 - acc: 0.6969 - val_loss: 1.4478 - val_acc: 0.4991\n",
      "Epoch 42/50\n",
      "50000/50000 [==============================] - 5s 91us/step - loss: 0.8875 - acc: 0.7031 - val_loss: 1.4523 - val_acc: 0.4942\n",
      "Epoch 43/50\n",
      "50000/50000 [==============================] - 5s 90us/step - loss: 0.8755 - acc: 0.7079 - val_loss: 1.4513 - val_acc: 0.4955\n",
      "Epoch 44/50\n",
      "50000/50000 [==============================] - 5s 90us/step - loss: 0.8613 - acc: 0.7118 - val_loss: 1.4644 - val_acc: 0.4958\n",
      "Epoch 45/50\n",
      "50000/50000 [==============================] - 5s 91us/step - loss: 0.8493 - acc: 0.7183 - val_loss: 1.4820 - val_acc: 0.4930\n",
      "Epoch 46/50\n",
      "50000/50000 [==============================] - 5s 92us/step - loss: 0.8346 - acc: 0.7239 - val_loss: 1.4846 - val_acc: 0.4929\n",
      "Epoch 47/50\n",
      "50000/50000 [==============================] - 5s 93us/step - loss: 0.8236 - acc: 0.7290 - val_loss: 1.5104 - val_acc: 0.4913\n",
      "Epoch 48/50\n",
      "50000/50000 [==============================] - 5s 91us/step - loss: 0.8115 - acc: 0.7346 - val_loss: 1.5129 - val_acc: 0.4919\n",
      "Epoch 49/50\n",
      "50000/50000 [==============================] - 5s 91us/step - loss: 0.7987 - acc: 0.7379 - val_loss: 1.4821 - val_acc: 0.4937\n",
      "Epoch 50/50\n",
      "50000/50000 [==============================] - 5s 90us/step - loss: 0.7840 - acc: 0.7436 - val_loss: 1.5045 - val_acc: 0.4988\n"
     ]
    }
   ],
   "source": [
    "model = build_mlp(input_shape=x_train.shape[1:])\n",
    "model.summary()\n",
    "optimizer = keras.optimizers.SGD(lr=LEARNING_RATE, nesterov=True, momentum=MOMENTUM)\n",
    "model.compile(loss='categorical_crossentropy', metrics=['accuracy'], optimizer=optimizer)\n",
    "\n",
    "model.fit(x_train,y_train, epochs=EPOCHS, batch_size=BATCH_SIZE\n",
    "          , validation_data=(x_test,y_test),shuffle=True,callbacks=[log_f1sc])\n",
    "\n",
    "train_loss = model.history.history['loss']\n",
    "valid_loss = model.history.history['val_loss']\n",
    "train_acc = model.history.history['acc']\n",
    "valid_acc = model.history.history['val_acc']\n",
    "\n",
    "valid_f1sc = model.history.history['val_f1sc']"
   ]
  },
  {
   "cell_type": "code",
   "execution_count": 175,
   "metadata": {},
   "outputs": [
    {
     "name": "stdout",
     "output_type": "stream",
     "text": [
      "_________________________________________________________________\n",
      "Layer (type)                 Output Shape              Param #   \n",
      "=================================================================\n",
      "input_21 (InputLayer)        (None, 3072)              0         \n",
      "_________________________________________________________________\n",
      "hidden_layer1 (Dense)        (None, 512)               1573376   \n",
      "_________________________________________________________________\n",
      "batch_normalization_61 (Batc (None, 512)               2048      \n",
      "_________________________________________________________________\n",
      "hidden_layer2 (Dense)        (None, 256)               131328    \n",
      "_________________________________________________________________\n",
      "batch_normalization_62 (Batc (None, 256)               1024      \n",
      "_________________________________________________________________\n",
      "hidden_layer3 (Dense)        (None, 128)               32896     \n",
      "_________________________________________________________________\n",
      "batch_normalization_63 (Batc (None, 128)               512       \n",
      "_________________________________________________________________\n",
      "output (Dense)               (None, 10)                1290      \n",
      "=================================================================\n",
      "Total params: 1,742,474\n",
      "Trainable params: 1,740,682\n",
      "Non-trainable params: 1,792\n",
      "_________________________________________________________________\n",
      "Train on 50000 samples, validate on 10000 samples\n",
      "Epoch 1/50\n",
      "50000/50000 [==============================] - 7s 142us/step - loss: 2.0606 - acc: 0.2927 - val_loss: 13.9376 - val_acc: 0.1000\n",
      "Epoch 2/50\n",
      "50000/50000 [==============================] - 4s 85us/step - loss: 1.7208 - acc: 0.3940 - val_loss: 11.4833 - val_acc: 0.1158\n",
      "Epoch 3/50\n",
      "50000/50000 [==============================] - 4s 84us/step - loss: 1.6267 - acc: 0.4299 - val_loss: 6.3725 - val_acc: 0.1311\n",
      "Epoch 4/50\n",
      "50000/50000 [==============================] - 4s 85us/step - loss: 1.5682 - acc: 0.4508 - val_loss: 3.2465 - val_acc: 0.1919\n",
      "Epoch 5/50\n",
      "50000/50000 [==============================] - 4s 84us/step - loss: 1.5244 - acc: 0.4681 - val_loss: 2.0830 - val_acc: 0.3233\n",
      "Epoch 6/50\n",
      "50000/50000 [==============================] - 4s 85us/step - loss: 1.4890 - acc: 0.4821 - val_loss: 1.7457 - val_acc: 0.3995\n",
      "Epoch 7/50\n",
      "50000/50000 [==============================] - 4s 85us/step - loss: 1.4580 - acc: 0.4912 - val_loss: 1.6067 - val_acc: 0.4404\n",
      "Epoch 8/50\n",
      "50000/50000 [==============================] - 4s 85us/step - loss: 1.4298 - acc: 0.5032 - val_loss: 1.5534 - val_acc: 0.4575\n",
      "Epoch 9/50\n",
      "50000/50000 [==============================] - 4s 86us/step - loss: 1.4042 - acc: 0.5111 - val_loss: 1.5564 - val_acc: 0.4560\n",
      "Epoch 10/50\n",
      "50000/50000 [==============================] - 4s 85us/step - loss: 1.3799 - acc: 0.5208 - val_loss: 1.5183 - val_acc: 0.4643\n",
      "Epoch 11/50\n",
      "50000/50000 [==============================] - 4s 85us/step - loss: 1.3579 - acc: 0.5290 - val_loss: 1.5049 - val_acc: 0.4779\n",
      "Epoch 12/50\n",
      "50000/50000 [==============================] - 4s 84us/step - loss: 1.3378 - acc: 0.5349 - val_loss: 1.4879 - val_acc: 0.4779\n",
      "Epoch 13/50\n",
      "50000/50000 [==============================] - 4s 86us/step - loss: 1.3173 - acc: 0.5452 - val_loss: 1.4943 - val_acc: 0.4781\n",
      "Epoch 14/50\n",
      "50000/50000 [==============================] - 4s 85us/step - loss: 1.2982 - acc: 0.5481 - val_loss: 1.4743 - val_acc: 0.4830\n",
      "Epoch 15/50\n",
      "50000/50000 [==============================] - 4s 86us/step - loss: 1.2809 - acc: 0.5556 - val_loss: 1.4710 - val_acc: 0.4856\n",
      "Epoch 16/50\n",
      "50000/50000 [==============================] - 4s 86us/step - loss: 1.2630 - acc: 0.5609 - val_loss: 1.4461 - val_acc: 0.4935\n",
      "Epoch 17/50\n",
      "50000/50000 [==============================] - 4s 86us/step - loss: 1.2458 - acc: 0.5688 - val_loss: 1.4522 - val_acc: 0.4906\n",
      "Epoch 18/50\n",
      "50000/50000 [==============================] - 4s 86us/step - loss: 1.2287 - acc: 0.5746 - val_loss: 1.4399 - val_acc: 0.4961\n",
      "Epoch 19/50\n",
      "50000/50000 [==============================] - 4s 89us/step - loss: 1.2122 - acc: 0.5809 - val_loss: 1.4280 - val_acc: 0.5010\n",
      "Epoch 20/50\n",
      "50000/50000 [==============================] - 4s 89us/step - loss: 1.1969 - acc: 0.5861 - val_loss: 1.4342 - val_acc: 0.4980\n",
      "Epoch 21/50\n",
      "50000/50000 [==============================] - 5s 92us/step - loss: 1.1826 - acc: 0.5923 - val_loss: 1.4415 - val_acc: 0.4926\n",
      "Epoch 22/50\n",
      "50000/50000 [==============================] - 5s 91us/step - loss: 1.1651 - acc: 0.5974 - val_loss: 1.4267 - val_acc: 0.4995\n",
      "Epoch 23/50\n",
      "50000/50000 [==============================] - 4s 87us/step - loss: 1.1513 - acc: 0.6025 - val_loss: 1.4315 - val_acc: 0.4961\n",
      "Epoch 24/50\n",
      "50000/50000 [==============================] - 4s 87us/step - loss: 1.1359 - acc: 0.6081 - val_loss: 1.4201 - val_acc: 0.5024\n",
      "Epoch 25/50\n",
      "50000/50000 [==============================] - 4s 87us/step - loss: 1.1224 - acc: 0.6147 - val_loss: 1.4225 - val_acc: 0.5001\n",
      "Epoch 26/50\n",
      "50000/50000 [==============================] - 4s 88us/step - loss: 1.1084 - acc: 0.6176 - val_loss: 1.4243 - val_acc: 0.4976\n",
      "Epoch 27/50\n",
      "50000/50000 [==============================] - 4s 88us/step - loss: 1.0942 - acc: 0.6256 - val_loss: 1.4272 - val_acc: 0.4998\n",
      "Epoch 28/50\n",
      "50000/50000 [==============================] - 4s 88us/step - loss: 1.0792 - acc: 0.6294 - val_loss: 1.4297 - val_acc: 0.4970\n",
      "Epoch 29/50\n",
      "50000/50000 [==============================] - 4s 88us/step - loss: 1.0650 - acc: 0.6357 - val_loss: 1.4437 - val_acc: 0.4997\n",
      "Epoch 30/50\n",
      "50000/50000 [==============================] - 4s 87us/step - loss: 1.0501 - acc: 0.6418 - val_loss: 1.4343 - val_acc: 0.5005\n",
      "Epoch 31/50\n",
      "50000/50000 [==============================] - 4s 89us/step - loss: 1.0385 - acc: 0.6451 - val_loss: 1.4247 - val_acc: 0.5040\n",
      "Epoch 32/50\n",
      "50000/50000 [==============================] - 4s 89us/step - loss: 1.0263 - acc: 0.6500 - val_loss: 1.4374 - val_acc: 0.4970\n",
      "Epoch 33/50\n",
      "50000/50000 [==============================] - 4s 87us/step - loss: 1.0110 - acc: 0.6561 - val_loss: 1.4997 - val_acc: 0.4890\n",
      "Epoch 34/50\n",
      "50000/50000 [==============================] - 4s 88us/step - loss: 0.9991 - acc: 0.6606 - val_loss: 1.4620 - val_acc: 0.4943\n",
      "Epoch 35/50\n",
      "50000/50000 [==============================] - 4s 87us/step - loss: 0.9856 - acc: 0.6653 - val_loss: 1.4312 - val_acc: 0.5032\n",
      "Epoch 36/50\n",
      "50000/50000 [==============================] - 5s 95us/step - loss: 0.9718 - acc: 0.6694 - val_loss: 1.5004 - val_acc: 0.4910\n",
      "Epoch 37/50\n",
      "50000/50000 [==============================] - 5s 93us/step - loss: 0.9584 - acc: 0.6750 - val_loss: 1.4235 - val_acc: 0.5071\n",
      "Epoch 38/50\n",
      "50000/50000 [==============================] - 5s 91us/step - loss: 0.9449 - acc: 0.6797 - val_loss: 1.4487 - val_acc: 0.5086\n",
      "Epoch 39/50\n",
      "50000/50000 [==============================] - 5s 90us/step - loss: 0.9323 - acc: 0.6860 - val_loss: 1.4276 - val_acc: 0.5067\n",
      "Epoch 40/50\n",
      "50000/50000 [==============================] - 5s 94us/step - loss: 0.9188 - acc: 0.6908 - val_loss: 1.4524 - val_acc: 0.5045\n",
      "Epoch 41/50\n",
      "50000/50000 [==============================] - 5s 94us/step - loss: 0.9077 - acc: 0.6951 - val_loss: 1.4333 - val_acc: 0.5074\n",
      "Epoch 42/50\n",
      "50000/50000 [==============================] - 5s 91us/step - loss: 0.8937 - acc: 0.7003 - val_loss: 1.4304 - val_acc: 0.5110\n",
      "Epoch 43/50\n",
      "50000/50000 [==============================] - 5s 92us/step - loss: 0.8825 - acc: 0.7045 - val_loss: 1.4477 - val_acc: 0.5125\n",
      "Epoch 44/50\n",
      "50000/50000 [==============================] - 5s 92us/step - loss: 0.8687 - acc: 0.7099 - val_loss: 1.4810 - val_acc: 0.4975\n",
      "Epoch 45/50\n",
      "50000/50000 [==============================] - 5s 92us/step - loss: 0.8568 - acc: 0.7149 - val_loss: 1.4607 - val_acc: 0.5071\n",
      "Epoch 46/50\n",
      "50000/50000 [==============================] - 5s 103us/step - loss: 0.8441 - acc: 0.7205 - val_loss: 1.4992 - val_acc: 0.4961\n",
      "Epoch 47/50\n",
      "50000/50000 [==============================] - 6s 116us/step - loss: 0.8308 - acc: 0.7252 - val_loss: 1.4657 - val_acc: 0.5043\n",
      "Epoch 48/50\n",
      "50000/50000 [==============================] - 5s 95us/step - loss: 0.8183 - acc: 0.7285 - val_loss: 1.4581 - val_acc: 0.5078\n",
      "Epoch 49/50\n",
      "50000/50000 [==============================] - 5s 97us/step - loss: 0.8056 - acc: 0.7350 - val_loss: 1.4801 - val_acc: 0.5079\n"
     ]
    },
    {
     "name": "stdout",
     "output_type": "stream",
     "text": [
      "Epoch 50/50\n",
      "50000/50000 [==============================] - 4s 87us/step - loss: 0.7929 - acc: 0.7409 - val_loss: 1.4813 - val_acc: 0.5105\n"
     ]
    }
   ],
   "source": [
    "model2 = build_mlp(input_shape=x_train.shape[1:])\n",
    "model2.summary()\n",
    "optimizer = keras.optimizers.SGD(lr=LEARNING_RATE, nesterov=True, momentum=MOMENTUM)\n",
    "model2.compile(loss='categorical_crossentropy', metrics=['accuracy'], optimizer=optimizer)\n",
    "\n",
    "model2.fit(x_train,y_train, epochs=EPOCHS, batch_size=BATCH_SIZE\n",
    "          , validation_data=(x_test,y_test),shuffle=True,callbacks=[rec_tptn])\n",
    "\n",
    "train_loss = model2.history.history['loss']\n",
    "valid_loss = model2.history.history['val_loss']\n",
    "train_acc = model2.history.history['acc']\n",
    "valid_acc = model2.history.history['val_acc']\n",
    "\n",
    "valid_tp = model2.history.history['val_tp']\n",
    "valid_tpr = model2.history.history['val_tpr']"
   ]
  },
  {
   "cell_type": "code",
   "execution_count": 177,
   "metadata": {},
   "outputs": [
    {
     "data": {
      "image/png": "[encoded data removed]",
      "text/plain": [
       "<Figure size 432x288 with 1 Axes>"
      ]
     },
     "metadata": {
      "needs_background": "light"
     },
     "output_type": "display_data"
    },
    {
     "data": {
      "image/png": "[encoded data removed]",
      "text/plain": [
       "<Figure size 432x288 with 1 Axes>"
      ]
     },
     "metadata": {
      "needs_background": "light"
     },
     "output_type": "display_data"
    },
    {
     "data": {
      "image/png": "[encoded data removed]",
      "text/plain": [
       "<Figure size 432x288 with 1 Axes>"
      ]
     },
     "metadata": {
      "needs_background": "light"
     },
     "output_type": "display_data"
    },
    {
     "data": {
      "image/png": "[encoded data removed]",
      "text/plain": [
       "<Figure size 432x288 with 1 Axes>"
      ]
     },
     "metadata": {
      "needs_background": "light"
     },
     "output_type": "display_data"
    },
    {
     "data": {
      "image/png": "[encoded data removed]",
      "text/plain": [
       "<Figure size 432x288 with 1 Axes>"
      ]
     },
     "metadata": {
      "needs_background": "light"
     },
     "output_type": "display_data"
    }
   ],
   "source": [
    "import matplotlib.pyplot as plt\n",
    "%matplotlib inline\n",
    "\n",
    "plt.plot(range(len(train_loss)), train_loss, label=\"train loss\")\n",
    "plt.plot(range(len(valid_loss)), valid_loss, label=\"valid loss\")\n",
    "plt.legend()\n",
    "plt.title(\"Loss\")\n",
    "plt.show()\n",
    "\n",
    "plt.plot(range(len(train_acc)), train_acc, label=\"train accuracy\")\n",
    "plt.plot(range(len(valid_acc)), valid_acc, label=\"valid accuracy\")\n",
    "plt.legend()\n",
    "plt.title(\"Accuracy\")\n",
    "plt.show()\n",
    "\n",
    "plt.plot(range(len(valid_f1sc)), valid_f1sc, label='valid f1-score')\n",
    "plt.legend()\n",
    "plt.title('F1-score')\n",
    "plt.show()\n",
    "\n",
    "plt.plot(range(len(valid_tp)), valid_tp, label='true positive')\n",
    "plt.legend()\n",
    "plt.title('True positive')\n",
    "plt.show()\n",
    "\n",
    "plt.plot(range(len(valid_tpr)), valid_tpr, label='true positive rate')\n",
    "plt.legend()\n",
    "plt.title('True positve rate')\n",
    "plt.show()"
   ]
  },
  {
   "cell_type": "code",
   "execution_count": null,
   "metadata": {},
   "outputs": [],
   "source": []
  }
 ],
 "metadata": {
  "kernelspec": {
   "display_name": "Python 3",
   "language": "python",
   "name": "python3"
  },
  "language_info": {
   "codemirror_mode": {
    "name": "ipython",
    "version": 3
   },
   "file_extension": ".py",
   "mimetype": "text/x-python",
   "name": "python",
   "nbconvert_exporter": "python",
   "pygments_lexer": "ipython3",
   "version": "3.6.9"
  }
 },
 "nbformat": 4,
 "nbformat_minor": 2
}
