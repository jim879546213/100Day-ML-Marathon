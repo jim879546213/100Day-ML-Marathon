{
 "cells": [
  {
   "cell_type": "code",
   "execution_count": 1,
   "metadata": {},
   "outputs": [],
   "source": [
    "from keras.utils import np_utils\n",
    "import numpy as np\n",
    "np.random.seed(10)"
   ]
  },
  {
   "cell_type": "code",
   "execution_count": 2,
   "metadata": {},
   "outputs": [
    {
     "name": "stdout",
     "output_type": "stream",
     "text": [
      "Downloading data from https://s3.amazonaws.com/img-datasets/mnist.npz\n",
      "11493376/11490434 [==============================] - 13s 1us/step\n"
     ]
    }
   ],
   "source": [
    "#載入手寫辨識的資料集\n",
    "from keras.datasets import mnist\n",
    "(x_train_image, y_train_label),(x_test_image, y_test_label) = mnist.load_data()"
   ]
  },
  {
   "cell_type": "code",
   "execution_count": 4,
   "metadata": {},
   "outputs": [
    {
     "name": "stdout",
     "output_type": "stream",
     "text": [
      "(60000, 28, 28)\n",
      "(10000, 28, 28)\n",
      "(60000,)\n",
      "(10000,)\n"
     ]
    }
   ],
   "source": [
    "print(x_train_image.shape)\n",
    "print(x_test_image.shape)\n",
    "print(y_train_label.shape)\n",
    "print(y_test_label.shape)"
   ]
  },
  {
   "cell_type": "code",
   "execution_count": 10,
   "metadata": {},
   "outputs": [],
   "source": [
    "#指定測試集與訓練資料集\n",
    "x_Train = x_train_image.reshape(60000,784).astype('float32')\n",
    "x_Test = x_test_image.reshape(10000,784).astype('float32')"
   ]
  },
  {
   "cell_type": "code",
   "execution_count": 13,
   "metadata": {},
   "outputs": [],
   "source": [
    "# normalize inputs from 0-255 to 0-1\n",
    "x_Train_normalize = x_Train/255\n",
    "x_Test_normalize = x_Test/255"
   ]
  },
  {
   "cell_type": "code",
   "execution_count": 14,
   "metadata": {},
   "outputs": [],
   "source": [
    "#把LABEL轉成NUMERICAL Categorical \n",
    "y_Train_OneHot = np_utils.to_categorical(y_train_label)\n",
    "y_Test_OneHot = np_utils.to_categorical(y_test_label)"
   ]
  },
  {
   "cell_type": "markdown",
   "metadata": {},
   "source": [
    "# 建立模型"
   ]
  },
  {
   "cell_type": "code",
   "execution_count": 15,
   "metadata": {},
   "outputs": [],
   "source": [
    "from keras.models import Sequential\n",
    "from keras.layers import Dense"
   ]
  },
  {
   "cell_type": "code",
   "execution_count": 36,
   "metadata": {},
   "outputs": [],
   "source": [
    "#宣告採用序列模型\n",
    "model = Sequential()"
   ]
  },
  {
   "cell_type": "code",
   "execution_count": 37,
   "metadata": {},
   "outputs": [],
   "source": [
    "#建構輸入層\n",
    "model.add(Dense(units=256, \n",
    "               input_dim =784,\n",
    "               kernel_initializer='normal',\n",
    "               activation='relu'))"
   ]
  },
  {
   "cell_type": "code",
   "execution_count": 38,
   "metadata": {},
   "outputs": [],
   "source": [
    "#建構輸入層\n",
    "model.add(Dense(units=256, \n",
    "               kernel_initializer='normal',\n",
    "               activation='relu'))"
   ]
  },
  {
   "cell_type": "code",
   "execution_count": 39,
   "metadata": {},
   "outputs": [],
   "source": [
    "#建構輸入層\n",
    "model.add(Dense(units=10, \n",
    "               kernel_initializer='normal',\n",
    "               activation='softmax'))\n",
    "#因為是最後一層，所以unit要跟y的shpape一樣"
   ]
  },
  {
   "cell_type": "code",
   "execution_count": 40,
   "metadata": {},
   "outputs": [
    {
     "name": "stdout",
     "output_type": "stream",
     "text": [
      "_________________________________________________________________\n",
      "Layer (type)                 Output Shape              Param #   \n",
      "=================================================================\n",
      "dense_3 (Dense)              (None, 256)               200960    \n",
      "_________________________________________________________________\n",
      "dense_4 (Dense)              (None, 256)               65792     \n",
      "_________________________________________________________________\n",
      "dense_5 (Dense)              (None, 10)                2570      \n",
      "=================================================================\n",
      "Total params: 269,322\n",
      "Trainable params: 269,322\n",
      "Non-trainable params: 0\n",
      "_________________________________________________________________\n",
      "None\n"
     ]
    }
   ],
   "source": [
    "print(model.summary())"
   ]
  },
  {
   "cell_type": "markdown",
   "metadata": {},
   "source": [
    "# 訓練模型"
   ]
  },
  {
   "cell_type": "code",
   "execution_count": 41,
   "metadata": {},
   "outputs": [],
   "source": [
    "model.compile(loss='categorical_crossentropy',optimizer='adam', \n",
    "              metrics=['accuracy'])"
   ]
  },
  {
   "cell_type": "code",
   "execution_count": 42,
   "metadata": {},
   "outputs": [
    {
     "name": "stdout",
     "output_type": "stream",
     "text": [
      "Train on 48000 samples, validate on 12000 samples\n",
      "Epoch 1/10\n",
      "48000/48000 [==============================] - 8s 160us/step - loss: 0.2368 - acc: 0.9301 - val_loss: 0.1468 - val_acc: 0.9527\n",
      "Epoch 2/10\n",
      "48000/48000 [==============================] - 7s 148us/step - loss: 0.0927 - acc: 0.9724 - val_loss: 0.0968 - val_acc: 0.9713\n",
      "Epoch 3/10\n",
      "48000/48000 [==============================] - 7s 146us/step - loss: 0.0632 - acc: 0.9801 - val_loss: 0.1026 - val_acc: 0.9708\n",
      "Epoch 4/10\n",
      "48000/48000 [==============================] - 7s 148us/step - loss: 0.0469 - acc: 0.9851 - val_loss: 0.0932 - val_acc: 0.9735\n",
      "Epoch 5/10\n",
      "48000/48000 [==============================] - 7s 149us/step - loss: 0.0366 - acc: 0.9876 - val_loss: 0.0922 - val_acc: 0.9752\n",
      "Epoch 6/10\n",
      "48000/48000 [==============================] - 7s 151us/step - loss: 0.0299 - acc: 0.9900 - val_loss: 0.1102 - val_acc: 0.9733\n",
      "Epoch 7/10\n",
      "48000/48000 [==============================] - 7s 152us/step - loss: 0.0238 - acc: 0.9920 - val_loss: 0.1134 - val_acc: 0.9728\n",
      "Epoch 8/10\n",
      "48000/48000 [==============================] - 7s 154us/step - loss: 0.0198 - acc: 0.9937 - val_loss: 0.1108 - val_acc: 0.9754\n",
      "Epoch 9/10\n",
      "48000/48000 [==============================] - 7s 155us/step - loss: 0.0216 - acc: 0.9931 - val_loss: 0.1052 - val_acc: 0.9768\n",
      "Epoch 10/10\n",
      "48000/48000 [==============================] - 7s 150us/step - loss: 0.0177 - acc: 0.9944 - val_loss: 0.1120 - val_acc: 0.9776\n"
     ]
    }
   ],
   "source": [
    "#https://keras.io/zh/models/model/#fit\n",
    "train_history = model.fit(x=x_Train_normalize, y=y_Train_OneHot,\n",
    "                         validation_split=0.2, epochs=10, \n",
    "                          batch_size=32, verbose=1)"
   ]
  },
  {
   "cell_type": "markdown",
   "metadata": {},
   "source": [
    "# 以圖形顯示訓練過程"
   ]
  },
  {
   "cell_type": "code",
   "execution_count": 43,
   "metadata": {},
   "outputs": [],
   "source": [
    "import matplotlib.pyplot as plt\n",
    "\n",
    "def show_train_history(train_history, train, validation):\n",
    "    plt.plot(train_history.history[train])\n",
    "    plt.plot(train_history.history[validation])\n",
    "    plt.title('Train History')\n",
    "    plt.xlabel(train)\n",
    "    plt.ylabel('Epoch')\n",
    "    plt.legend(['trian','validation'],loc = 'upper left')\n",
    "    plt.show()"
   ]
  },
  {
   "cell_type": "code",
   "execution_count": 44,
   "metadata": {},
   "outputs": [
    {
     "data": {
      "text/plain": [
       "{'val_loss': [0.1468128202992181,\n",
       "  0.09683162309229373,\n",
       "  0.1026058386809115,\n",
       "  0.09317571233090712,\n",
       "  0.09224926585515883,\n",
       "  0.11019471231199471,\n",
       "  0.11344604236641559,\n",
       "  0.11075756685648049,\n",
       "  0.10522502169603831,\n",
       "  0.11203903545823565],\n",
       " 'val_acc': [0.9526666666666667,\n",
       "  0.9713333333333334,\n",
       "  0.97075,\n",
       "  0.9735,\n",
       "  0.97525,\n",
       "  0.9733333333333334,\n",
       "  0.9728333333333333,\n",
       "  0.9754166666666667,\n",
       "  0.9768333333333333,\n",
       "  0.9775833333333334],\n",
       " 'loss': [0.23679491444087278,\n",
       "  0.0926537684785823,\n",
       "  0.0632010775100983,\n",
       "  0.046911697662998145,\n",
       "  0.036646881470257846,\n",
       "  0.02988815570892742,\n",
       "  0.023821463549285302,\n",
       "  0.019822987687856765,\n",
       "  0.02160830763445301,\n",
       "  0.017660084089786626],\n",
       " 'acc': [0.930125,\n",
       "  0.9723958333333333,\n",
       "  0.9800625,\n",
       "  0.9850625,\n",
       "  0.9875833333333334,\n",
       "  0.9900208333333333,\n",
       "  0.992,\n",
       "  0.9937083333333333,\n",
       "  0.9930625,\n",
       "  0.994375]}"
      ]
     },
     "execution_count": 44,
     "metadata": {},
     "output_type": "execute_result"
    }
   ],
   "source": [
    "train_history.history"
   ]
  },
  {
   "cell_type": "code",
   "execution_count": 45,
   "metadata": {},
   "outputs": [
    {
     "data": {
      "image/png": "[encoded data removed]",
      "text/plain": [
       "<Figure size 432x288 with 1 Axes>"
      ]
     },
     "metadata": {
      "needs_background": "light"
     },
     "output_type": "display_data"
    }
   ],
   "source": [
    "show_train_history(train_history, 'acc', 'val_acc')"
   ]
  },
  {
   "cell_type": "code",
   "execution_count": 46,
   "metadata": {},
   "outputs": [
    {
     "data": {
      "image/png": "[encoded data removed]",
      "text/plain": [
       "<Figure size 432x288 with 1 Axes>"
      ]
     },
     "metadata": {
      "needs_background": "light"
     },
     "output_type": "display_data"
    }
   ],
   "source": [
    "show_train_history(train_history, 'loss', 'val_loss')"
   ]
  },
  {
   "cell_type": "markdown",
   "metadata": {},
   "source": [
    "# 評估模型準確率"
   ]
  },
  {
   "cell_type": "code",
   "execution_count": 47,
   "metadata": {},
   "outputs": [
    {
     "name": "stdout",
     "output_type": "stream",
     "text": [
      "10000/10000 [==============================] - 0s 35us/step\n",
      "\n",
      "accuracy =  0.9791\n"
     ]
    }
   ],
   "source": [
    "score = model.evaluate(x_Test_normalize, y_Test_OneHot)\n",
    "print()\n",
    "print('accuracy = ', score[1])"
   ]
  },
  {
   "cell_type": "code",
   "execution_count": null,
   "metadata": {},
   "outputs": [],
   "source": []
  }
 ],
 "metadata": {
  "kernelspec": {
   "display_name": "Python 3",
   "language": "python",
   "name": "python3"
  },
  "language_info": {
   "codemirror_mode": {
    "name": "ipython",
    "version": 3
   },
   "file_extension": ".py",
   "mimetype": "text/x-python",
   "name": "python",
   "nbconvert_exporter": "python",
   "pygments_lexer": "ipython3",
   "version": "3.6.9"
  }
 },
 "nbformat": 4,
 "nbformat_minor": 2
}
