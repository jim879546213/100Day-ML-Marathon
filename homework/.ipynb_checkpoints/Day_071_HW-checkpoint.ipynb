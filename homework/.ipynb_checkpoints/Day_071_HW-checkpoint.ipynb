{
 "cells": [
  {
   "cell_type": "code",
   "execution_count": 1,
   "metadata": {},
   "outputs": [],
   "source": [
    "import keras\n",
    "from keras.datasets import cifar10\n",
    "import numpy as np\n",
    "np.random.seed(10)\n",
    "#np.random.seed(10)的作用：使得隨機數據可預測"
   ]
  },
  {
   "cell_type": "code",
   "execution_count": 2,
   "metadata": {},
   "outputs": [],
   "source": [
    "#取得Keras CIFAR10 Dataset, 並分成Training 與 Test set\n",
    "(x_img_train, y_label_train),(x_img_test, y_label_test) = cifar10.load_data()"
   ]
  },
  {
   "cell_type": "code",
   "execution_count": 5,
   "metadata": {},
   "outputs": [
    {
     "name": "stdout",
     "output_type": "stream",
     "text": [
      "train data: images: (50000, 32, 32, 3) labels: (50000, 1)\n",
      "test data: images: (10000, 32, 32, 3) labels: (10000, 1)\n"
     ]
    }
   ],
   "source": [
    "print('train data:','images:',x_img_train.shape,\n",
    "     'labels:',y_label_train.shape)\n",
    "print('test data:', 'images:',x_img_test.shape,\n",
    "     'labels:', y_label_test.shape)"
   ]
  },
  {
   "cell_type": "code",
   "execution_count": 7,
   "metadata": {},
   "outputs": [
    {
     "name": "stdout",
     "output_type": "stream",
     "text": [
      "(50000, 10)\n"
     ]
    }
   ],
   "source": [
    "#對資料正規化、one hot encoding\n",
    "x_img_train_normalize = x_img_train.astype('float32')/255\n",
    "x_img_test_normalize = x_img_test.astype('float32')/255\n",
    "\n",
    "y_label_train_onehot = keras.utils.to_categorical(y_label_train)\n",
    "y_label_test_onehot = keras.utils.to_categorical(y_label_test)\n",
    "\n",
    "print(y_label_train_onehot.shape)"
   ]
  },
  {
   "cell_type": "markdown",
   "metadata": {},
   "source": [
    "# 建立模型"
   ]
  },
  {
   "cell_type": "code",
   "execution_count": 8,
   "metadata": {},
   "outputs": [],
   "source": [
    "from keras.models import Sequential\n",
    "from keras.layers import Dense, Dropout, Activation, Flatten\n",
    "from keras.layers import Conv2D, MaxPooling2D, ZeroPadding2D"
   ]
  },
  {
   "cell_type": "code",
   "execution_count": 9,
   "metadata": {},
   "outputs": [
    {
     "name": "stderr",
     "output_type": "stream",
     "text": [
      "WARNING: Logging before flag parsing goes to stderr.\n",
      "W0910 23:24:44.855329  6928 deprecation_wrapper.py:119] From C:\\Users\\User\\Anaconda3\\envs\\DL\\lib\\site-packages\\keras\\backend\\tensorflow_backend.py:74: The name tf.get_default_graph is deprecated. Please use tf.compat.v1.get_default_graph instead.\n",
      "\n"
     ]
    }
   ],
   "source": [
    "# 宣告採用序列模型\n",
    "model = Sequential()"
   ]
  },
  {
   "cell_type": "code",
   "execution_count": 10,
   "metadata": {},
   "outputs": [],
   "source": [
    "#卷積層1與池化層1"
   ]
  },
  {
   "cell_type": "code",
   "execution_count": 11,
   "metadata": {},
   "outputs": [
    {
     "name": "stderr",
     "output_type": "stream",
     "text": [
      "W0910 23:28:33.467787  6928 deprecation_wrapper.py:119] From C:\\Users\\User\\Anaconda3\\envs\\DL\\lib\\site-packages\\keras\\backend\\tensorflow_backend.py:517: The name tf.placeholder is deprecated. Please use tf.compat.v1.placeholder instead.\n",
      "\n",
      "W0910 23:28:33.472747  6928 deprecation_wrapper.py:119] From C:\\Users\\User\\Anaconda3\\envs\\DL\\lib\\site-packages\\keras\\backend\\tensorflow_backend.py:4138: The name tf.random_uniform is deprecated. Please use tf.random.uniform instead.\n",
      "\n",
      "W0910 23:28:33.497049  6928 deprecation_wrapper.py:119] From C:\\Users\\User\\Anaconda3\\envs\\DL\\lib\\site-packages\\keras\\backend\\tensorflow_backend.py:3976: The name tf.nn.max_pool is deprecated. Please use tf.nn.max_pool2d instead.\n",
      "\n"
     ]
    }
   ],
   "source": [
    "model.add(Conv2D(filters= 32, kernel_size=(3,3),input_shape=(32,32,3),activation = 'relu',padding='same'))\n",
    "model.add(MaxPooling2D(pool_size = (2,2)))"
   ]
  },
  {
   "cell_type": "code",
   "execution_count": 12,
   "metadata": {},
   "outputs": [],
   "source": [
    "#卷積層2與池化層2"
   ]
  },
  {
   "cell_type": "code",
   "execution_count": 13,
   "metadata": {},
   "outputs": [],
   "source": [
    "model.add(Conv2D(filters= 64, kernel_size=(3,3),input_shape=(32,32,3),activation = 'relu',padding='same'))\n",
    "model.add(MaxPooling2D(pool_size = (2,2)))"
   ]
  },
  {
   "cell_type": "code",
   "execution_count": 12,
   "metadata": {},
   "outputs": [],
   "source": [
    "#卷積層3與池化層3"
   ]
  },
  {
   "cell_type": "code",
   "execution_count": 14,
   "metadata": {},
   "outputs": [],
   "source": [
    "model.add(Conv2D(filters= 128, kernel_size=(3,3),input_shape=(32,32,3),activation = 'relu',padding='same'))\n",
    "model.add(MaxPooling2D(pool_size = (2,2)))"
   ]
  },
  {
   "cell_type": "code",
   "execution_count": 15,
   "metadata": {},
   "outputs": [],
   "source": [
    "#卷積層4與池化層4"
   ]
  },
  {
   "cell_type": "code",
   "execution_count": 16,
   "metadata": {},
   "outputs": [],
   "source": [
    "model.add(Conv2D(filters= 256, kernel_size=(3,3),input_shape=(32,32,3),activation = 'relu',padding='same'))\n",
    "model.add(MaxPooling2D(pool_size = (2,2)))"
   ]
  },
  {
   "cell_type": "code",
   "execution_count": 17,
   "metadata": {},
   "outputs": [],
   "source": [
    "#建立神經網路(平坦層、隱藏層、輸出層)"
   ]
  },
  {
   "cell_type": "code",
   "execution_count": 18,
   "metadata": {},
   "outputs": [],
   "source": [
    "#建立平坦層\n",
    "model.add(Flatten())"
   ]
  },
  {
   "cell_type": "code",
   "execution_count": 19,
   "metadata": {},
   "outputs": [],
   "source": [
    "#建立全網路連接層\n",
    "model.add(Dense(512,activation='relu'))\n",
    "model.add(Dense(512,activation='relu'))"
   ]
  },
  {
   "cell_type": "code",
   "execution_count": 20,
   "metadata": {},
   "outputs": [],
   "source": [
    "#建立輸出層\n",
    "model.add(Dense(10, activation='softmax'))"
   ]
  },
  {
   "cell_type": "code",
   "execution_count": 21,
   "metadata": {},
   "outputs": [
    {
     "name": "stdout",
     "output_type": "stream",
     "text": [
      "_________________________________________________________________\n",
      "Layer (type)                 Output Shape              Param #   \n",
      "=================================================================\n",
      "conv2d_1 (Conv2D)            (None, 32, 32, 32)        896       \n",
      "_________________________________________________________________\n",
      "max_pooling2d_1 (MaxPooling2 (None, 16, 16, 32)        0         \n",
      "_________________________________________________________________\n",
      "conv2d_2 (Conv2D)            (None, 16, 16, 64)        18496     \n",
      "_________________________________________________________________\n",
      "max_pooling2d_2 (MaxPooling2 (None, 8, 8, 64)          0         \n",
      "_________________________________________________________________\n",
      "conv2d_3 (Conv2D)            (None, 8, 8, 128)         73856     \n",
      "_________________________________________________________________\n",
      "max_pooling2d_3 (MaxPooling2 (None, 4, 4, 128)         0         \n",
      "_________________________________________________________________\n",
      "conv2d_4 (Conv2D)            (None, 4, 4, 256)         295168    \n",
      "_________________________________________________________________\n",
      "max_pooling2d_4 (MaxPooling2 (None, 2, 2, 256)         0         \n",
      "_________________________________________________________________\n",
      "flatten_1 (Flatten)          (None, 1024)              0         \n",
      "_________________________________________________________________\n",
      "dense_1 (Dense)              (None, 512)               524800    \n",
      "_________________________________________________________________\n",
      "dense_2 (Dense)              (None, 512)               262656    \n",
      "_________________________________________________________________\n",
      "dense_3 (Dense)              (None, 10)                5130      \n",
      "=================================================================\n",
      "Total params: 1,181,002\n",
      "Trainable params: 1,181,002\n",
      "Non-trainable params: 0\n",
      "_________________________________________________________________\n",
      "None\n"
     ]
    }
   ],
   "source": [
    "#檢查model 的STACK\n",
    "print(model.summary())"
   ]
  },
  {
   "cell_type": "markdown",
   "metadata": {},
   "source": [
    "# 載入之前訓練的模型"
   ]
  },
  {
   "cell_type": "code",
   "execution_count": 22,
   "metadata": {},
   "outputs": [
    {
     "name": "stdout",
     "output_type": "stream",
     "text": [
      "載入模型失敗!開始訓練一個新模型\n"
     ]
    }
   ],
   "source": [
    "try:\n",
    "    model.load_weights(\"SaveModel/cifarCnnModel.h5\")\n",
    "    print(\"載入模型成功!繼續訓練模型\")\n",
    "except :    \n",
    "    print(\"載入模型失敗!開始訓練一個新模型\")"
   ]
  },
  {
   "cell_type": "markdown",
   "metadata": {},
   "source": [
    "# 訓練模型"
   ]
  },
  {
   "cell_type": "code",
   "execution_count": 23,
   "metadata": {},
   "outputs": [
    {
     "name": "stderr",
     "output_type": "stream",
     "text": [
      "W0910 23:38:07.817672  6928 deprecation_wrapper.py:119] From C:\\Users\\User\\Anaconda3\\envs\\DL\\lib\\site-packages\\keras\\optimizers.py:790: The name tf.train.Optimizer is deprecated. Please use tf.compat.v1.train.Optimizer instead.\n",
      "\n",
      "W0910 23:38:07.843464  6928 deprecation_wrapper.py:119] From C:\\Users\\User\\Anaconda3\\envs\\DL\\lib\\site-packages\\keras\\backend\\tensorflow_backend.py:3295: The name tf.log is deprecated. Please use tf.math.log instead.\n",
      "\n"
     ]
    }
   ],
   "source": [
    "model.compile(loss = 'categorical_crossentropy', optimizer = 'Adam', metrics = ['accuracy'])"
   ]
  },
  {
   "cell_type": "code",
   "execution_count": 24,
   "metadata": {},
   "outputs": [
    {
     "name": "stderr",
     "output_type": "stream",
     "text": [
      "W0910 23:57:03.504657  6928 deprecation.py:323] From C:\\Users\\User\\Anaconda3\\envs\\DL\\lib\\site-packages\\tensorflow\\python\\ops\\math_grad.py:1250: add_dispatch_support.<locals>.wrapper (from tensorflow.python.ops.array_ops) is deprecated and will be removed in a future version.\n",
      "Instructions for updating:\n",
      "Use tf.where in 2.0, which has the same broadcast rule as np.where\n",
      "W0910 23:57:03.616888  6928 deprecation_wrapper.py:119] From C:\\Users\\User\\Anaconda3\\envs\\DL\\lib\\site-packages\\keras\\backend\\tensorflow_backend.py:986: The name tf.assign_add is deprecated. Please use tf.compat.v1.assign_add instead.\n",
      "\n"
     ]
    },
    {
     "name": "stdout",
     "output_type": "stream",
     "text": [
      "Train on 37500 samples, validate on 12500 samples\n",
      "Epoch 1/12\n",
      "37500/37500 [==============================] - 49s 1ms/step - loss: 1.5996 - acc: 0.4055 - val_loss: 1.2743 - val_acc: 0.5275\n",
      "Epoch 2/12\n",
      "37500/37500 [==============================] - 46s 1ms/step - loss: 1.1417 - acc: 0.5879 - val_loss: 0.9964 - val_acc: 0.6458\n",
      "Epoch 3/12\n",
      "37500/37500 [==============================] - 46s 1ms/step - loss: 0.9203 - acc: 0.6698 - val_loss: 0.9376 - val_acc: 0.6695\n",
      "Epoch 4/12\n",
      "37500/37500 [==============================] - 46s 1ms/step - loss: 0.7651 - acc: 0.7310 - val_loss: 0.8308 - val_acc: 0.7116\n",
      "Epoch 5/12\n",
      "37500/37500 [==============================] - 45s 1ms/step - loss: 0.6377 - acc: 0.7747 - val_loss: 0.8255 - val_acc: 0.7178\n",
      "Epoch 6/12\n",
      "37500/37500 [==============================] - 45s 1ms/step - loss: 0.5311 - acc: 0.8139 - val_loss: 0.8404 - val_acc: 0.7250\n",
      "Epoch 7/12\n",
      "37500/37500 [==============================] - 45s 1ms/step - loss: 0.4334 - acc: 0.8476 - val_loss: 0.8472 - val_acc: 0.7293\n",
      "Epoch 8/12\n",
      "37500/37500 [==============================] - 45s 1ms/step - loss: 0.3385 - acc: 0.8811 - val_loss: 0.8773 - val_acc: 0.7442\n",
      "Epoch 9/12\n",
      "37500/37500 [==============================] - 44s 1ms/step - loss: 0.2628 - acc: 0.9075 - val_loss: 0.9965 - val_acc: 0.7267\n",
      "Epoch 10/12\n",
      "37500/37500 [==============================] - 44s 1ms/step - loss: 0.2249 - acc: 0.9208 - val_loss: 1.0466 - val_acc: 0.7372\n",
      "Epoch 11/12\n",
      "37500/37500 [==============================] - 44s 1ms/step - loss: 0.1675 - acc: 0.9403 - val_loss: 1.1808 - val_acc: 0.7277\n",
      "Epoch 12/12\n",
      "37500/37500 [==============================] - 44s 1ms/step - loss: 0.1545 - acc: 0.9441 - val_loss: 1.1935 - val_acc: 0.7348\n"
     ]
    }
   ],
   "source": [
    "#模型訓練, \"Train_History\" 把訓練過程所得到的數值存起來\n",
    "train_history = model.fit(x_img_train_normalize, y_label_train_onehot, validation_split=0.25,\n",
    "                          epochs=12, batch_size=128, verbose=1)\n",
    "#[validation_split = 0.2] validation_split：在0和1之間浮動。用作驗證數據的訓練數據的分數。\n",
    "#該模型將訓練數據的這一部分分開，不會對其進行訓練，並將在每個時期結束時評估該數據的損失和任何模型指標。\n",
    "#[batch_size]：整數或None。每個梯度更新的樣本數。指定，batch_size為128"
   ]
  },
  {
   "cell_type": "code",
   "execution_count": 28,
   "metadata": {},
   "outputs": [],
   "source": [
    "import matplotlib.pyplot as plt\n",
    "%matplotlib inline\n",
    "\n",
    "def show_train_history(train, Validation):\n",
    "    plt.plot(train_history.history[train])\n",
    "    plt.plot(train_history.history[Validation])\n",
    "    plt.title('Train History')\n",
    "    plt.ylabel('Accuracy')\n",
    "    plt.xlabel('Epoch')\n",
    "    plt.legend(['train','validation'], loc = 'upper left')\n",
    "    plt.show()"
   ]
  },
  {
   "cell_type": "code",
   "execution_count": 29,
   "metadata": {},
   "outputs": [
    {
     "data": {
      "image/png": "[encoded data removed]",
      "text/plain": [
       "<Figure size 432x288 with 1 Axes>"
      ]
     },
     "metadata": {
      "needs_background": "light"
     },
     "output_type": "display_data"
    }
   ],
   "source": [
    "show_train_history('acc','val_acc')"
   ]
  },
  {
   "cell_type": "markdown",
   "metadata": {},
   "source": [
    "# 作業:嘗試不同的loss"
   ]
  },
  {
   "cell_type": "code",
   "execution_count": 31,
   "metadata": {},
   "outputs": [
    {
     "name": "stdout",
     "output_type": "stream",
     "text": [
      "Train on 37500 samples, validate on 12500 samples\n",
      "Epoch 1/12\n",
      "37500/37500 [==============================] - 50s 1ms/step - loss: 0.0095 - acc: 0.9361 - val_loss: 0.0444 - val_acc: 0.7245\n",
      "Epoch 2/12\n",
      "37500/37500 [==============================] - 49s 1ms/step - loss: 0.0081 - acc: 0.9453 - val_loss: 0.0422 - val_acc: 0.7374\n",
      "Epoch 3/12\n",
      "37500/37500 [==============================] - 50s 1ms/step - loss: 0.0077 - acc: 0.9485 - val_loss: 0.0463 - val_acc: 0.7141\n",
      "Epoch 4/12\n",
      "37500/37500 [==============================] - 51s 1ms/step - loss: 0.0071 - acc: 0.9526 - val_loss: 0.0449 - val_acc: 0.7284\n",
      "Epoch 5/12\n",
      "37500/37500 [==============================] - 51s 1ms/step - loss: 0.0076 - acc: 0.9498 - val_loss: 0.0458 - val_acc: 0.7194\n",
      "Epoch 6/12\n",
      "37500/37500 [==============================] - 48s 1ms/step - loss: 0.0066 - acc: 0.9565 - val_loss: 0.0468 - val_acc: 0.7160\n",
      "Epoch 7/12\n",
      "37500/37500 [==============================] - 49s 1ms/step - loss: 0.0067 - acc: 0.9558 - val_loss: 0.0468 - val_acc: 0.7182\n",
      "Epoch 8/12\n",
      "37500/37500 [==============================] - 48s 1ms/step - loss: 0.0063 - acc: 0.9582 - val_loss: 0.0443 - val_acc: 0.7307\n",
      "Epoch 9/12\n",
      "37500/37500 [==============================] - 48s 1ms/step - loss: 0.0058 - acc: 0.9619 - val_loss: 0.0465 - val_acc: 0.7210\n",
      "Epoch 10/12\n",
      "37500/37500 [==============================] - 49s 1ms/step - loss: 0.0058 - acc: 0.9632 - val_loss: 0.0461 - val_acc: 0.7262\n",
      "Epoch 11/12\n",
      "37500/37500 [==============================] - 51s 1ms/step - loss: 0.0054 - acc: 0.9653 - val_loss: 0.0473 - val_acc: 0.7209\n",
      "Epoch 12/12\n",
      "37500/37500 [==============================] - 49s 1ms/step - loss: 0.0062 - acc: 0.9601 - val_loss: 0.0467 - val_acc: 0.7251\n"
     ]
    }
   ],
   "source": [
    "model.compile(loss = 'MSE', optimizer = 'Adam', metrics = ['accuracy'])\n",
    "train_history = model.fit(x_img_train_normalize, y_label_train_onehot, validation_split=0.25,\n",
    "                          epochs=12, batch_size=128, verbose=1)"
   ]
  },
  {
   "cell_type": "code",
   "execution_count": 32,
   "metadata": {},
   "outputs": [
    {
     "data": {
      "image/png": "[encoded data removed]",
      "text/plain": [
       "<Figure size 432x288 with 1 Axes>"
      ]
     },
     "metadata": {
      "needs_background": "light"
     },
     "output_type": "display_data"
    }
   ],
   "source": [
    "show_train_history('acc','val_acc')"
   ]
  },
  {
   "cell_type": "code",
   "execution_count": 33,
   "metadata": {},
   "outputs": [
    {
     "name": "stdout",
     "output_type": "stream",
     "text": [
      "Train on 37500 samples, validate on 12500 samples\n",
      "Epoch 1/12\n",
      "37500/37500 [==============================] - 51s 1ms/step - loss: 0.0187 - acc: 0.9936 - val_loss: 0.2436 - val_acc: 0.9479\n",
      "Epoch 2/12\n",
      "37500/37500 [==============================] - 52s 1ms/step - loss: 0.0136 - acc: 0.9955 - val_loss: 0.2450 - val_acc: 0.9461\n",
      "Epoch 3/12\n",
      "37500/37500 [==============================] - 51s 1ms/step - loss: 0.0119 - acc: 0.9960 - val_loss: 0.2546 - val_acc: 0.9485\n",
      "Epoch 4/12\n",
      "37500/37500 [==============================] - 52s 1ms/step - loss: 0.0110 - acc: 0.9962 - val_loss: 0.2702 - val_acc: 0.9453\n",
      "Epoch 5/12\n",
      "37500/37500 [==============================] - 51s 1ms/step - loss: 0.0122 - acc: 0.9958 - val_loss: 0.2849 - val_acc: 0.9464\n",
      "Epoch 6/12\n",
      "37500/37500 [==============================] - 50s 1ms/step - loss: 0.0120 - acc: 0.9959 - val_loss: 0.2601 - val_acc: 0.9467\n",
      "Epoch 7/12\n",
      "37500/37500 [==============================] - 52s 1ms/step - loss: 0.0113 - acc: 0.9959 - val_loss: 0.2492 - val_acc: 0.9473\n",
      "Epoch 8/12\n",
      "37500/37500 [==============================] - 51s 1ms/step - loss: 0.0105 - acc: 0.9964 - val_loss: 0.2790 - val_acc: 0.9458\n",
      "Epoch 9/12\n",
      "37500/37500 [==============================] - 50s 1ms/step - loss: 0.0114 - acc: 0.9962 - val_loss: 0.2717 - val_acc: 0.9457\n",
      "Epoch 10/12\n",
      "37500/37500 [==============================] - 51s 1ms/step - loss: 0.0092 - acc: 0.9968 - val_loss: 0.2835 - val_acc: 0.9470\n",
      "Epoch 11/12\n",
      "37500/37500 [==============================] - 49s 1ms/step - loss: 0.0097 - acc: 0.9968 - val_loss: 0.2759 - val_acc: 0.9480\n",
      "Epoch 12/12\n",
      "37500/37500 [==============================] - 52s 1ms/step - loss: 0.0082 - acc: 0.9973 - val_loss: 0.2788 - val_acc: 0.9461\n"
     ]
    }
   ],
   "source": [
    "model.compile(loss = 'binary_crossentropy', optimizer = 'Adam', metrics = ['accuracy'])\n",
    "train_history = model.fit(x_img_train_normalize, y_label_train_onehot, validation_split=0.25,\n",
    "                          epochs=12, batch_size=128, verbose=1)"
   ]
  },
  {
   "cell_type": "code",
   "execution_count": 34,
   "metadata": {},
   "outputs": [
    {
     "data": {
      "image/png": "[encoded data removed]",
      "text/plain": [
       "<Figure size 432x288 with 1 Axes>"
      ]
     },
     "metadata": {
      "needs_background": "light"
     },
     "output_type": "display_data"
    }
   ],
   "source": [
    "show_train_history('acc','val_acc')"
   ]
  },
  {
   "cell_type": "code",
   "execution_count": null,
   "metadata": {},
   "outputs": [],
   "source": []
  }
 ],
 "metadata": {
  "kernelspec": {
   "display_name": "Python 3",
   "language": "python",
   "name": "python3"
  },
  "language_info": {
   "codemirror_mode": {
    "name": "ipython",
    "version": 3
   },
   "file_extension": ".py",
   "mimetype": "text/x-python",
   "name": "python",
   "nbconvert_exporter": "python",
   "pygments_lexer": "ipython3",
   "version": "3.6.9"
  }
 },
 "nbformat": 4,
 "nbformat_minor": 2
}
