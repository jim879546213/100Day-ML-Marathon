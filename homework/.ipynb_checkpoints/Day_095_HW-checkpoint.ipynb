{
 "cells": [
  {
   "cell_type": "markdown",
   "metadata": {},
   "source": [
    "(1)zero_pad - feature map 跟原圖的比對\n",
    "\n",
    "(2)pool_forward - 前行網路的 pooling layer"
   ]
  },
  {
   "cell_type": "code",
   "execution_count": 2,
   "metadata": {},
   "outputs": [],
   "source": [
    "import numpy as np \n",
    "import h5py\n",
    "import matplotlib.pyplot as plt \n",
    "%matplotlib inline\n",
    "\n",
    "plt.rcParams['figure.figsize'] = (5,4) \n",
    "plt.rcParams['image.interpolation'] = 'nearest'\n",
    "plt.rcParams['image.cmap'] = 'gray'\n",
    "\n",
    "# autoreload。可以讓我們不退出IPython就動態修改代碼，在執行代碼前IPython會幫我們自動重載改動的模塊\n",
    "%load_ext autoreload\n",
    "%autoreload 2\n",
    "np.random.seed(1)"
   ]
  },
  {
   "cell_type": "code",
   "execution_count": 3,
   "metadata": {},
   "outputs": [],
   "source": [
    "def zero_pad(X, pad):\n",
    "    \"\"\"\n",
    "    對image X 做 zero-padding. \n",
    "    參數定義如下:\n",
    "    X -- python numpy array, 呈現維度 (m, n_H, n_W, n_C), 代表一批 m 個圖像\n",
    "         n_H: 圖高, n_W: 圖寬, n_C: color channels 數\n",
    "    pad -- 整數, 加幾圈的 zero padding.\n",
    "    Returns:\n",
    "    X_pad -- image of shape (m, n_H + 2*pad, n_W + 2*pad, n_C) 做完zero-padding 的結果\n",
    "    \"\"\"\n",
    "    \n",
    "    X_pad = np.pad(X, ((0,0), (pad,pad), (pad,pad),(0,0)), 'constant', constant_values=(0,0))\n",
    "    \n",
    "    return X_pad"
   ]
  },
  {
   "cell_type": "code",
   "execution_count": 13,
   "metadata": {},
   "outputs": [
    {
     "name": "stdout",
     "output_type": "stream",
     "text": [
      "x.shape= (4, 3, 3, 2)\n",
      "x_pad.shape= (4, 7, 7, 2)\n",
      "x[1,1]= [[-1.07296428  0.49515861]\n",
      " [-0.9520621  -0.51814555]\n",
      " [-1.4614036  -0.51634791]]\n",
      "x_pad[1,1]= [[0. 0.]\n",
      " [0. 0.]\n",
      " [0. 0.]\n",
      " [0. 0.]\n",
      " [0. 0.]\n",
      " [0. 0.]\n",
      " [0. 0.]]\n"
     ]
    },
    {
     "data": {
      "text/plain": [
       "<matplotlib.image.AxesImage at 0x2a1be43e320>"
      ]
     },
     "execution_count": 13,
     "metadata": {},
     "output_type": "execute_result"
    },
    {
     "data": {
      "image/png": "[encoded data removed]",
      "text/plain": [
       "<Figure size 360x288 with 2 Axes>"
      ]
     },
     "metadata": {
      "needs_background": "light"
     },
     "output_type": "display_data"
    }
   ],
   "source": [
    "x = np.random.randn(4,3,3,2) # 產生gray image (4:五組 3,3:3乘3的圖, 2:兩種不同的色階)\n",
    "x_pad = zero_pad(x, 2) #加兩圈pad\n",
    "print('x.shape=', x.shape)\n",
    "print('x_pad.shape=', x_pad.shape)\n",
    "print('x[1,1]=',x[1,1])\n",
    "print('x_pad[1,1]=',x_pad[1,1])\n",
    "fig, axarr = plt.subplots(1,2)\n",
    "axarr[0].set_title('x')\n",
    "axarr[1].set_title('x_pad')\n",
    "axarr[0].imshow(x[0,:,:,0]) #第一張圖的第一種顏色\n",
    "axarr[1].imshow(x_pad[0,:,:,0])\n"
   ]
  },
  {
   "cell_type": "code",
   "execution_count": 20,
   "metadata": {},
   "outputs": [],
   "source": [
    "def pool_forward(A_prev, hparameters, model = 'max'):\n",
    "    \"\"\"\n",
    "    設計一個前行網路的池化層\n",
    "    參數定義如下:\n",
    "    A_prev -- 輸入的numpy 陣列, 維度 (m, n_H_prev, n_W_prev, n_C_prev)\n",
    "    hparameter 超參數 --  \"f\" and \"stride\" 所形成的python 字典\n",
    "    mode -- 池化的模式: \"max\" or \"average\"\n",
    "    \n",
    "    返回:\n",
    "        A -- 輸出的池化層, 維度為 (m, n_H, n_W, n_C) 的 numpy 陣列\n",
    "        cache -- 可以應用在 backward pass pooling layer 資料, 包含 input and hparameter\n",
    "    \"\"\"\n",
    "    #從input shape檢查尺寸\n",
    "    (m, n_H_prev, n_W_prev, n_C_prev) = A_prev.shape\n",
    "    \n",
    "    #從hparameters檢索超參數\n",
    "    f = hparameters['f']\n",
    "    stride = hparameters['stride']\n",
    "    \n",
    "    #定義輸出的dimensions\n",
    "    n_H = int(1+(n_H_prev-f)/stride)\n",
    "    n_W = int(1+(n_W_prev-f)/stride)\n",
    "    n_C = n_C_prev\n",
    "    \n",
    "    #初始化輸出的matrix A\n",
    "    A = np.zeros((m, n_H, n_W, n_C))\n",
    "    \n",
    "    ###程式起始位置###\n",
    "    for i in range(m):\n",
    "        for h in range(n_H):\n",
    "            for w in range(n_W):\n",
    "                for c in range(n_C):\n",
    "                \n",
    "                #找出特徵圖的寬度跟高度四個點\n",
    "                    vert_start = h*stride\n",
    "                    vert_end = h*stride+f\n",
    "                    horiz_start = w*stride\n",
    "                    horiz_end = w*stride+f\n",
    "                \n",
    "                #定義第i個訓練示例中\n",
    "                    a_prev_slice = A_prev[i, vert_start:vert_end, horiz_start:horiz_end, c]\n",
    "                \n",
    "                #計算輸入data池化結果，使用if statment去做分類\n",
    "                    if model == 'max':\n",
    "                        A[i, h, w, c] = np.max(a_prev_slice)\n",
    "                    elif model == 'average':\n",
    "                        A[i, h, w, c] = np.mean(a_prev_slice)\n",
    "                    \n",
    "                    ###程式結束###\n",
    "    \n",
    "    #儲存輸入的特徵圖跟所設定的超參數, 可以用在pool_backward()\n",
    "    cache = (A_prev, hparameters)\n",
    "    \n",
    "    #確認輸出的資料維度\n",
    "    assert(A.shape == (m, n_H, n_W, n_C))\n",
    "    \n",
    "    return A, cache\n",
    "        "
   ]
  },
  {
   "cell_type": "code",
   "execution_count": 22,
   "metadata": {},
   "outputs": [
    {
     "name": "stdout",
     "output_type": "stream",
     "text": [
      "model = max\n",
      "A =  [[[[1.17705226 2.56545278 1.32269399]]]\n",
      "\n",
      "\n",
      " [[[1.15526176 1.63193585 1.1311286 ]]]]\n",
      "\n",
      "model = average\n",
      "A =  [[[[-0.00175726  0.35268481 -0.40789821]]]\n",
      "\n",
      "\n",
      " [[[ 0.14175672  0.2854674  -0.02100793]]]]\n"
     ]
    }
   ],
   "source": [
    "A_prev = np.random.randn(2,4,4,3)\n",
    "hparameters = {'stride':2, 'f':3}\n",
    "A, cache = pool_forward(A_prev, hparameters)\n",
    "print('model = max')\n",
    "print('A = ', A)\n",
    "print()\n",
    "A, cache = pool_forward(A_prev, hparameters, model = \"average\")\n",
    "print('model = average')\n",
    "print('A = ', A)"
   ]
  },
  {
   "cell_type": "code",
   "execution_count": null,
   "metadata": {},
   "outputs": [],
   "source": []
  }
 ],
 "metadata": {
  "kernelspec": {
   "display_name": "Python 3",
   "language": "python",
   "name": "python3"
  },
  "language_info": {
   "codemirror_mode": {
    "name": "ipython",
    "version": 3
   },
   "file_extension": ".py",
   "mimetype": "text/x-python",
   "name": "python",
   "nbconvert_exporter": "python",
   "pygments_lexer": "ipython3",
   "version": "3.6.9"
  }
 },
 "nbformat": 4,
 "nbformat_minor": 2
}
