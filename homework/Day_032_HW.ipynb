{
 "cells": [
  {
   "cell_type": "markdown",
   "metadata": {},
   "source": [
    "# 來源 : https://ai.googleblog.com/\n",
    "\n",
    "Introducing Translatotron: An End-to-End Speech-to-Speech Translation Model"
   ]
  },
  {
   "cell_type": "markdown",
   "metadata": {},
   "source": [
    "# 專案的目標？"
   ]
  },
  {
   "cell_type": "markdown",
   "metadata": {},
   "source": [
    "原先的語音翻譯為:從聲音到文本，將文本翻譯成另外一種語言後，再將此語言轉變成聲音\n",
    "\n",
    "\n",
    "新的目標為:直接從一種語言的聲音檔翻譯成另外一種語言的聲音檔(優點:1.減少聲音到文本、文本到聲音、翻譯之間的錯誤 2.減少翻譯的時間 3.可以更好處理不需要翻譯的部分，比如名字以及專有名詞)"
   ]
  },
  {
   "cell_type": "markdown",
   "metadata": {},
   "source": [
    "# 使用的技術是？"
   ]
  },
  {
   "cell_type": "markdown",
   "metadata": {},
   "source": [
    "weakly supervised?\n",
    "\n",
    "衡量方式:BLEU score"
   ]
  },
  {
   "cell_type": "markdown",
   "metadata": {},
   "source": [
    "# 資料來源？"
   ]
  },
  {
   "cell_type": "markdown",
   "metadata": {},
   "source": [
    "Google speech data(資料類型:spectrograms)"
   ]
  },
  {
   "cell_type": "code",
   "execution_count": null,
   "metadata": {},
   "outputs": [],
   "source": []
  }
 ],
 "metadata": {
  "kernelspec": {
   "display_name": "Python 3",
   "language": "python",
   "name": "python3"
  },
  "language_info": {
   "codemirror_mode": {
    "name": "ipython",
    "version": 3
   },
   "file_extension": ".py",
   "mimetype": "text/x-python",
   "name": "python",
   "nbconvert_exporter": "python",
   "pygments_lexer": "ipython3",
   "version": "3.6.8"
  }
 },
 "nbformat": 4,
 "nbformat_minor": 2
}
