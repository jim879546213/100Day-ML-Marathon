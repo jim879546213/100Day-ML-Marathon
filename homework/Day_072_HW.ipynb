{
 "cells": [
  {
   "cell_type": "markdown",
   "metadata": {},
   "source": [
    "# Sigmoid\n",
    "Sigmoid 數學函數表示方式\n",
    "\n",
    "\n",
    "sigmoid = lambda x: 1 / (1 + np.exp(-x))"
   ]
  },
  {
   "cell_type": "code",
   "execution_count": 1,
   "metadata": {},
   "outputs": [],
   "source": [
    "import numpy as np\n",
    "from numpy import *\n",
    "import matplotlib.pyplot as plt\n",
    "%matplotlib inline"
   ]
  },
  {
   "cell_type": "code",
   "execution_count": 5,
   "metadata": {},
   "outputs": [
    {
     "data": {
      "image/png": "[encoded data removed]",
      "text/plain": [
       "<Figure size 432x288 with 1 Axes>"
      ]
     },
     "metadata": {
      "needs_background": "light"
     },
     "output_type": "display_data"
    }
   ],
   "source": [
    "#Sigmoid 數學函數表示方式\n",
    "#sigmoid = lambda x: 1 / (1 + np.exp(-x))\n",
    "def sigmoid(x):\n",
    "    return (1/(1+np.exp(-x)))\n",
    "\n",
    "#sigmoid微分\n",
    "def dsigmoid(x):\n",
    "    return (x*(1-x))\n",
    "\n",
    "# linespace generate an array from start and stop value\n",
    "# with requested number of elements. Example 10 elements or 100 elements.\n",
    "x = np.linspace(-10,10,100)\n",
    "\n",
    "# prepare the plot, associate the color r(ed) or b(lue) and the label \n",
    "plt.plot(x, sigmoid(x),'b', label = 'linspace(-10,10,10)')\n",
    "\n",
    "# Draw the grid line in background.\n",
    "plt.grid()\n",
    "\n",
    "#顯示title\n",
    "plt.title('Sigmoid Function')\n",
    "\n",
    "# 顯現 the Sigmoid formula\n",
    "plt.text(4,0.8,r'$\\sigma(x)=\\frac{1}{1+e^{-x}}$', fontsize=15)\n",
    "#(4,0.8):The position to place the text\n",
    "\n",
    "#resize the X and Y axes\n",
    "plt.gca().xaxis.set_major_locator(plt.MultipleLocator(1))\n",
    "plt.gca().yaxis.set_major_locator(plt.MultipleLocator(0.1))\n",
    "\n",
    "\n",
    "plt.show()"
   ]
  },
  {
   "cell_type": "markdown",
   "metadata": {},
   "source": [
    "# softmax"
   ]
  },
  {
   "cell_type": "markdown",
   "metadata": {},
   "source": [
    "# Softmax 數學函數表示方式\n",
    "def softmax(x):\n",
    "    return np.exp(x)/float(sum(np.exp(x)))\n",
    "\n",
    "x = np.linspace(-5,5,100)\n",
    "\n",
    "plt.gca().xaxis.set_major_locator(plt.MultipleLocator(1))\n",
    "plt.gca().yaxis.set_major_locator(plt.MultipleLocator(1))\n",
    "\n",
    "print(softmax(x))\n",
    "plt.plot(x,softmax(x), 'r')\n",
    "plt.show()"
   ]
  },
  {
   "cell_type": "markdown",
   "metadata": {},
   "source": [
    "# Rectified Linear Unit- Relu\n",
    "f(x)=max(0,x)"
   ]
  },
  {
   "cell_type": "code",
   "execution_count": 25,
   "metadata": {},
   "outputs": [
    {
     "name": "stdout",
     "output_type": "stream",
     "text": [
      "[0.         0.         0.         0.         0.         0.\n",
      " 0.         0.         0.         0.         0.         0.\n",
      " 0.         0.         0.         0.         0.         0.\n",
      " 0.         0.         0.         0.         0.         0.\n",
      " 0.         0.         0.         0.         0.         0.\n",
      " 0.         0.         0.         0.         0.         0.\n",
      " 0.         0.         0.         0.         0.         0.\n",
      " 0.         0.         0.         0.         0.         0.\n",
      " 0.         0.         0.05050505 0.15151515 0.25252525 0.35353535\n",
      " 0.45454545 0.55555556 0.65656566 0.75757576 0.85858586 0.95959596\n",
      " 1.06060606 1.16161616 1.26262626 1.36363636 1.46464646 1.56565657\n",
      " 1.66666667 1.76767677 1.86868687 1.96969697 2.07070707 2.17171717\n",
      " 2.27272727 2.37373737 2.47474747 2.57575758 2.67676768 2.77777778\n",
      " 2.87878788 2.97979798 3.08080808 3.18181818 3.28282828 3.38383838\n",
      " 3.48484848 3.58585859 3.68686869 3.78787879 3.88888889 3.98989899\n",
      " 4.09090909 4.19191919 4.29292929 4.39393939 4.49494949 4.5959596\n",
      " 4.6969697  4.7979798  4.8989899  5.        ]\n"
     ]
    },
    {
     "data": {
      "image/png": "[encoded data removed]",
      "text/plain": [
       "<Figure size 432x288 with 1 Axes>"
      ]
     },
     "metadata": {
      "needs_background": "light"
     },
     "output_type": "display_data"
    }
   ],
   "source": [
    "def Relu(x):\n",
    "    return np.maximum(0,x)\n",
    "# https://blog.csdn.net/lanchunhui/article/details/52700895\n",
    "\n",
    "x = np.linspace(-5,5,100)\n",
    "\n",
    "plt.gca().xaxis.set_major_locator(plt.MultipleLocator(1))\n",
    "plt.gca().yaxis.set_major_locator(plt.MultipleLocator(1))\n",
    "\n",
    "\n",
    "print(Relu(x))\n",
    "plt.plot(x,Relu(x), 'k')\n",
    "plt.show()"
   ]
  },
  {
   "cell_type": "code",
   "execution_count": null,
   "metadata": {},
   "outputs": [],
   "source": []
  }
 ],
 "metadata": {
  "kernelspec": {
   "display_name": "Python 3",
   "language": "python",
   "name": "python3"
  },
  "language_info": {
   "codemirror_mode": {
    "name": "ipython",
    "version": 3
   },
   "file_extension": ".py",
   "mimetype": "text/x-python",
   "name": "python",
   "nbconvert_exporter": "python",
   "pygments_lexer": "ipython3",
   "version": "3.6.9"
  }
 },
 "nbformat": 4,
 "nbformat_minor": 2
}
