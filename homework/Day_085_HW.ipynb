{
 "cells": [
  {
   "cell_type": "code",
   "execution_count": 1,
   "metadata": {},
   "outputs": [
    {
     "name": "stderr",
     "output_type": "stream",
     "text": [
      "Using TensorFlow backend.\n"
     ]
    }
   ],
   "source": [
    "import keras"
   ]
  },
  {
   "cell_type": "code",
   "execution_count": 2,
   "metadata": {},
   "outputs": [],
   "source": [
    "(x_train,y_train),(x_test,y_test) = keras.datasets.cifar10.load_data()"
   ]
  },
  {
   "cell_type": "code",
   "execution_count": 3,
   "metadata": {},
   "outputs": [],
   "source": [
    "def preproc_x(x, flatten=True):\n",
    "    x = x / 255.\n",
    "    if flatten:\n",
    "        x = x.reshape((len(x), -1))\n",
    "    return x\n",
    "\n",
    "def preproc_y(y, num_classes=10):\n",
    "    if y.shape[-1] == 1:\n",
    "        y = keras.utils.to_categorical(y, num_classes)\n",
    "    return y  "
   ]
  },
  {
   "cell_type": "code",
   "execution_count": 4,
   "metadata": {},
   "outputs": [],
   "source": [
    "x_train = preproc_x(x_train)\n",
    "x_test = preproc_x(x_test)\n",
    "\n",
    "y_train = preproc_y(y_train)\n",
    "y_test = preproc_y(y_test)"
   ]
  },
  {
   "cell_type": "code",
   "execution_count": 10,
   "metadata": {},
   "outputs": [],
   "source": [
    "from keras.layers import Input, Dense, BatchNormalization\n",
    "def build_mlp(input_shape, output_units=10, num_neurons=[512,256,128]):\n",
    "    input_layer = Input(input_shape)\n",
    "    \n",
    "    for i, num_unit in enumerate(num_neurons):\n",
    "        if i == 0:\n",
    "            x = Dense(units=num_unit, activation='relu', name='hidden_layer'+str(i+1))(input_layer)\n",
    "            x = BatchNormalization()(x)\n",
    "        else:\n",
    "            x = Dense(units=num_unit, activation='relu', name='hidden_layer'+str(i+1))(x)\n",
    "            x = BatchNormalization()(x)\n",
    "    out = Dense(units=output_units, activation='softmax', name='output')(x)\n",
    "    model = keras.models.Model(inputs=[input_layer], outputs=[out])\n",
    "    return model"
   ]
  },
  {
   "cell_type": "code",
   "execution_count": 11,
   "metadata": {},
   "outputs": [],
   "source": [
    "LEARNING_RATE = 1e-3\n",
    "EPOCHS = 50\n",
    "BATCH_SIZE = 1024\n",
    "MOMENTUM = 0.95"
   ]
  },
  {
   "cell_type": "code",
   "execution_count": 12,
   "metadata": {},
   "outputs": [],
   "source": [
    "# 載入 Callbacks, 並將 monitor 設定為監控 validation loss\n",
    "from keras.callbacks import EarlyStopping\n",
    "\n",
    "earlystop = EarlyStopping(monitor='val_loss', patience=5, verbose=1)"
   ]
  },
  {
   "cell_type": "code",
   "execution_count": 14,
   "metadata": {},
   "outputs": [
    {
     "name": "stderr",
     "output_type": "stream",
     "text": [
      "W1010 11:49:59.856598  5708 deprecation_wrapper.py:119] From C:\\Users\\User\\Anaconda3\\envs\\DL\\lib\\site-packages\\keras\\optimizers.py:790: The name tf.train.Optimizer is deprecated. Please use tf.compat.v1.train.Optimizer instead.\n",
      "\n",
      "W1010 11:49:59.863581  5708 deprecation_wrapper.py:119] From C:\\Users\\User\\Anaconda3\\envs\\DL\\lib\\site-packages\\keras\\backend\\tensorflow_backend.py:3295: The name tf.log is deprecated. Please use tf.math.log instead.\n",
      "\n",
      "W1010 11:49:59.947367  5708 deprecation.py:323] From C:\\Users\\User\\Anaconda3\\envs\\DL\\lib\\site-packages\\tensorflow\\python\\ops\\math_grad.py:1250: add_dispatch_support.<locals>.wrapper (from tensorflow.python.ops.array_ops) is deprecated and will be removed in a future version.\n",
      "Instructions for updating:\n",
      "Use tf.where in 2.0, which has the same broadcast rule as np.where\n"
     ]
    },
    {
     "name": "stdout",
     "output_type": "stream",
     "text": [
      "_________________________________________________________________\n",
      "Layer (type)                 Output Shape              Param #   \n",
      "=================================================================\n",
      "input_2 (InputLayer)         (None, 3072)              0         \n",
      "_________________________________________________________________\n",
      "hidden_layer1 (Dense)        (None, 512)               1573376   \n",
      "_________________________________________________________________\n",
      "batch_normalization_4 (Batch (None, 512)               2048      \n",
      "_________________________________________________________________\n",
      "hidden_layer2 (Dense)        (None, 256)               131328    \n",
      "_________________________________________________________________\n",
      "batch_normalization_5 (Batch (None, 256)               1024      \n",
      "_________________________________________________________________\n",
      "hidden_layer3 (Dense)        (None, 128)               32896     \n",
      "_________________________________________________________________\n",
      "batch_normalization_6 (Batch (None, 128)               512       \n",
      "_________________________________________________________________\n",
      "output (Dense)               (None, 10)                1290      \n",
      "=================================================================\n",
      "Total params: 1,742,474\n",
      "Trainable params: 1,740,682\n",
      "Non-trainable params: 1,792\n",
      "_________________________________________________________________\n",
      "Train on 50000 samples, validate on 10000 samples\n",
      "Epoch 1/50\n",
      "50000/50000 [==============================] - 5s 98us/step - loss: 2.2067 - acc: 0.2713 - val_loss: 2.1245 - val_acc: 0.3124\n",
      "Epoch 2/50\n",
      "50000/50000 [==============================] - 3s 68us/step - loss: 1.7317 - acc: 0.3949 - val_loss: 1.7868 - val_acc: 0.3801\n",
      "Epoch 3/50\n",
      "50000/50000 [==============================] - 3s 69us/step - loss: 1.6052 - acc: 0.4370 - val_loss: 1.6620 - val_acc: 0.4159\n",
      "Epoch 4/50\n",
      "50000/50000 [==============================] - 4s 70us/step - loss: 1.5335 - acc: 0.4631 - val_loss: 1.6156 - val_acc: 0.4308\n",
      "Epoch 5/50\n",
      "50000/50000 [==============================] - 3s 69us/step - loss: 1.4778 - acc: 0.4839 - val_loss: 1.5769 - val_acc: 0.4427\n",
      "Epoch 6/50\n",
      "50000/50000 [==============================] - 3s 69us/step - loss: 1.4324 - acc: 0.4983 - val_loss: 1.5551 - val_acc: 0.4511\n",
      "Epoch 7/50\n",
      "50000/50000 [==============================] - 4s 70us/step - loss: 1.3922 - acc: 0.5123 - val_loss: 1.5361 - val_acc: 0.4521\n",
      "Epoch 8/50\n",
      "50000/50000 [==============================] - 4s 72us/step - loss: 1.3577 - acc: 0.5240 - val_loss: 1.5157 - val_acc: 0.4658\n",
      "Epoch 9/50\n",
      "50000/50000 [==============================] - 3s 70us/step - loss: 1.3247 - acc: 0.5371 - val_loss: 1.5027 - val_acc: 0.4686\n",
      "Epoch 10/50\n",
      "50000/50000 [==============================] - 4s 71us/step - loss: 1.2964 - acc: 0.5488 - val_loss: 1.5029 - val_acc: 0.4734\n",
      "Epoch 11/50\n",
      "50000/50000 [==============================] - 4s 70us/step - loss: 1.2674 - acc: 0.5597 - val_loss: 1.4877 - val_acc: 0.4809\n",
      "Epoch 12/50\n",
      "50000/50000 [==============================] - 4s 73us/step - loss: 1.2397 - acc: 0.5697 - val_loss: 1.4764 - val_acc: 0.4787\n",
      "Epoch 13/50\n",
      "50000/50000 [==============================] - 4s 74us/step - loss: 1.2137 - acc: 0.5802 - val_loss: 1.4658 - val_acc: 0.4854\n",
      "Epoch 14/50\n",
      "50000/50000 [==============================] - 4s 75us/step - loss: 1.1880 - acc: 0.5913 - val_loss: 1.4645 - val_acc: 0.4837\n",
      "Epoch 15/50\n",
      "50000/50000 [==============================] - 4s 73us/step - loss: 1.1653 - acc: 0.5992 - val_loss: 1.4598 - val_acc: 0.4863\n",
      "Epoch 16/50\n",
      "50000/50000 [==============================] - 4s 74us/step - loss: 1.1420 - acc: 0.6081 - val_loss: 1.4581 - val_acc: 0.4929\n",
      "Epoch 17/50\n",
      "50000/50000 [==============================] - 4s 75us/step - loss: 1.1195 - acc: 0.6171 - val_loss: 1.4629 - val_acc: 0.4882\n",
      "Epoch 18/50\n",
      "50000/50000 [==============================] - 4s 73us/step - loss: 1.0978 - acc: 0.6243 - val_loss: 1.4502 - val_acc: 0.4926\n",
      "Epoch 19/50\n",
      "50000/50000 [==============================] - 4s 73us/step - loss: 1.0734 - acc: 0.6345 - val_loss: 1.4484 - val_acc: 0.4947\n",
      "Epoch 20/50\n",
      "50000/50000 [==============================] - 4s 74us/step - loss: 1.0516 - acc: 0.6423 - val_loss: 1.4616 - val_acc: 0.4900\n",
      "Epoch 21/50\n",
      "50000/50000 [==============================] - 4s 76us/step - loss: 1.0292 - acc: 0.6521 - val_loss: 1.4454 - val_acc: 0.4983\n",
      "Epoch 22/50\n",
      "50000/50000 [==============================] - 4s 74us/step - loss: 1.0094 - acc: 0.6577 - val_loss: 1.4508 - val_acc: 0.5019\n",
      "Epoch 23/50\n",
      "50000/50000 [==============================] - 4s 73us/step - loss: 0.9885 - acc: 0.6673 - val_loss: 1.4562 - val_acc: 0.5012\n",
      "Epoch 24/50\n",
      "50000/50000 [==============================] - 4s 73us/step - loss: 0.9651 - acc: 0.6754 - val_loss: 1.4446 - val_acc: 0.4995\n",
      "Epoch 25/50\n",
      "50000/50000 [==============================] - 4s 75us/step - loss: 0.9463 - acc: 0.6825 - val_loss: 1.4485 - val_acc: 0.5051\n",
      "Epoch 26/50\n",
      "50000/50000 [==============================] - 4s 74us/step - loss: 0.9257 - acc: 0.6913 - val_loss: 1.4602 - val_acc: 0.5050\n",
      "Epoch 27/50\n",
      "50000/50000 [==============================] - 4s 73us/step - loss: 0.9080 - acc: 0.6989 - val_loss: 1.4694 - val_acc: 0.5032\n",
      "Epoch 28/50\n",
      "50000/50000 [==============================] - 4s 72us/step - loss: 0.8862 - acc: 0.7064 - val_loss: 1.4675 - val_acc: 0.4997\n",
      "Epoch 29/50\n",
      "50000/50000 [==============================] - 4s 75us/step - loss: 0.8645 - acc: 0.7145 - val_loss: 1.4742 - val_acc: 0.5001\n",
      "Epoch 00029: early stopping\n"
     ]
    }
   ],
   "source": [
    "model = build_mlp(input_shape=x_train.shape[1:])\n",
    "model.summary()\n",
    "optimizer = keras.optimizers.SGD(lr=LEARNING_RATE, nesterov=True, momentum=MOMENTUM)\n",
    "model.compile(loss='categorical_crossentropy', metrics=['accuracy'], optimizer=optimizer)\n",
    "\n",
    "model.fit(x_train,y_train, epochs=EPOCHS, batch_size=BATCH_SIZE\n",
    "          , validation_data=(x_test,y_test),shuffle=True,callbacks=[earlystop])\n",
    "\n",
    "train_loss = model.history.history['loss']\n",
    "valid_loss = model.history.history['val_loss']\n",
    "train_acc = model.history.history['acc']\n",
    "valid_acc = model.history.history['val_acc']"
   ]
  },
  {
   "cell_type": "code",
   "execution_count": 15,
   "metadata": {},
   "outputs": [
    {
     "data": {
      "image/png": "[encoded data removed]",
      "text/plain": [
       "<Figure size 432x288 with 1 Axes>"
      ]
     },
     "metadata": {
      "needs_background": "light"
     },
     "output_type": "display_data"
    },
    {
     "data": {
      "image/png": "[encoded data removed]",
      "text/plain": [
       "<Figure size 432x288 with 1 Axes>"
      ]
     },
     "metadata": {
      "needs_background": "light"
     },
     "output_type": "display_data"
    }
   ],
   "source": [
    "import matplotlib.pyplot as plt\n",
    "%matplotlib inline\n",
    "\n",
    "plt.plot(range(len(train_loss)), train_loss, label=\"train loss\")\n",
    "plt.plot(range(len(valid_loss)), valid_loss, label=\"valid loss\")\n",
    "plt.legend()\n",
    "plt.title(\"Loss\")\n",
    "plt.show()\n",
    "\n",
    "plt.plot(range(len(train_acc)), train_acc, label=\"train accuracy\")\n",
    "plt.plot(range(len(valid_acc)), valid_acc, label=\"valid accuracy\")\n",
    "plt.legend()\n",
    "plt.title(\"Accuracy\")\n",
    "plt.show()\n"
   ]
  },
  {
   "cell_type": "code",
   "execution_count": null,
   "metadata": {},
   "outputs": [],
   "source": []
  }
 ],
 "metadata": {
  "kernelspec": {
   "display_name": "Python 3",
   "language": "python",
   "name": "python3"
  },
  "language_info": {
   "codemirror_mode": {
    "name": "ipython",
    "version": 3
   },
   "file_extension": ".py",
   "mimetype": "text/x-python",
   "name": "python",
   "nbconvert_exporter": "python",
   "pygments_lexer": "ipython3",
   "version": "3.6.9"
  }
 },
 "nbformat": 4,
 "nbformat_minor": 2
}
