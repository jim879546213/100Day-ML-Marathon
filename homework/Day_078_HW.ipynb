{
 "cells": [
  {
   "cell_type": "code",
   "execution_count": 1,
   "metadata": {},
   "outputs": [
    {
     "name": "stderr",
     "output_type": "stream",
     "text": [
      "Using TensorFlow backend.\n"
     ]
    }
   ],
   "source": [
    "import os \n",
    "import keras\n",
    "\n",
    "os.environ['CUDA_VISIBLE_DEVICES']=''#範例不使用GPU"
   ]
  },
  {
   "cell_type": "code",
   "execution_count": 18,
   "metadata": {},
   "outputs": [],
   "source": [
    "(train_x,train_y),(test_x,test_y) = keras.datasets.cifar10.load_data()"
   ]
  },
  {
   "cell_type": "code",
   "execution_count": 3,
   "metadata": {},
   "outputs": [],
   "source": [
    "#建立函式來前處理資料\n",
    "def preproc_x(x, flatten = True):\n",
    "    x = x/255\n",
    "    if flatten:\n",
    "        x = x.reshape(len(x),-1)\n",
    "    return x\n",
    "def preproc_y(y, num_classes =10):\n",
    "    if y.shape[-1]==1:\n",
    "        y = keras.utils.to_categorical(y,num_classes=num_classes)\n",
    "    return y"
   ]
  },
  {
   "cell_type": "code",
   "execution_count": 4,
   "metadata": {},
   "outputs": [],
   "source": [
    "train_x = preproc_x(train_x)\n",
    "test_x = preproc_x(test_x)\n",
    "\n",
    "train_y = preproc_y(train_y)\n",
    "test_y = preproc_y(test_y)"
   ]
  },
  {
   "cell_type": "code",
   "execution_count": 35,
   "metadata": {},
   "outputs": [],
   "source": [
    "# model建立的函式\n",
    "def build_mpl(input_shape, output_units = 10, num_neurons=[512,256,128]):\n",
    "    input_layer = keras.layers.Input(input_shape)\n",
    "    \n",
    "    for i, n_units in enumerate(num_neurons):\n",
    "        if i ==0:\n",
    "            x = keras.layers.Dense(units = n_units, activation='relu'\n",
    "                                   , name='hidden_layer'+str(i+1))(input_layer)\n",
    "        else:\n",
    "            x = keras.layers.Dense(units=n_units, activation='relu'\n",
    "                                   ,name='hidden_layer'+str(i+1))(x)\n",
    "    out = keras.layers.Dense(units=output_units, activation='softmax' \n",
    "                            ,name = 'output')(x)\n",
    "    model = keras.models.Model(inputs=[input_layer], outputs=[out])\n",
    "    return model"
   ]
  },
  {
   "cell_type": "code",
   "execution_count": 9,
   "metadata": {},
   "outputs": [
    {
     "name": "stdout",
     "output_type": "stream",
     "text": [
      "_________________________________________________________________\n",
      "Layer (type)                 Output Shape              Param #   \n",
      "=================================================================\n",
      "input_3 (InputLayer)         (None, 3072)              0         \n",
      "_________________________________________________________________\n",
      "hidden_layer1 (Dense)        (None, 512)               1573376   \n",
      "_________________________________________________________________\n",
      "hidden_layer2 (Dense)        (None, 256)               131328    \n",
      "_________________________________________________________________\n",
      "hidden_layer3 (Dense)        (None, 128)               32896     \n",
      "_________________________________________________________________\n",
      "output (Dense)               (None, 10)                1290      \n",
      "=================================================================\n",
      "Total params: 1,738,890\n",
      "Trainable params: 1,738,890\n",
      "Non-trainable params: 0\n",
      "_________________________________________________________________\n"
     ]
    }
   ],
   "source": [
    "model = build_mpl(input_shape=train_x.shape[1:])\n",
    "model.summary()"
   ]
  },
  {
   "cell_type": "code",
   "execution_count": 10,
   "metadata": {},
   "outputs": [],
   "source": [
    "## 超參數設定\n",
    "LEARNING_RATE = 0.001\n",
    "EPOCHS = 100\n",
    "BATCH_SIZE = 256"
   ]
  },
  {
   "cell_type": "code",
   "execution_count": 11,
   "metadata": {},
   "outputs": [
    {
     "name": "stderr",
     "output_type": "stream",
     "text": [
      "W0925 14:30:43.533873 15452 deprecation_wrapper.py:119] From C:\\Users\\User\\Anaconda3\\envs\\DL\\lib\\site-packages\\keras\\optimizers.py:790: The name tf.train.Optimizer is deprecated. Please use tf.compat.v1.train.Optimizer instead.\n",
      "\n",
      "W0925 14:30:43.543846 15452 deprecation_wrapper.py:119] From C:\\Users\\User\\Anaconda3\\envs\\DL\\lib\\site-packages\\keras\\backend\\tensorflow_backend.py:3295: The name tf.log is deprecated. Please use tf.math.log instead.\n",
      "\n"
     ]
    }
   ],
   "source": [
    "opt = keras.optimizers.Adam(lr = LEARNING_RATE)\n",
    "model.compile(optimizer=opt, loss='categorical_crossentropy', metrics=['accuracy'])"
   ]
  },
  {
   "cell_type": "code",
   "execution_count": 12,
   "metadata": {},
   "outputs": [
    {
     "name": "stderr",
     "output_type": "stream",
     "text": [
      "W0925 14:31:44.936965 15452 deprecation.py:323] From C:\\Users\\User\\Anaconda3\\envs\\DL\\lib\\site-packages\\tensorflow\\python\\ops\\math_grad.py:1250: add_dispatch_support.<locals>.wrapper (from tensorflow.python.ops.array_ops) is deprecated and will be removed in a future version.\n",
      "Instructions for updating:\n",
      "Use tf.where in 2.0, which has the same broadcast rule as np.where\n",
      "W0925 14:31:45.120474 15452 deprecation_wrapper.py:119] From C:\\Users\\User\\Anaconda3\\envs\\DL\\lib\\site-packages\\keras\\backend\\tensorflow_backend.py:986: The name tf.assign_add is deprecated. Please use tf.compat.v1.assign_add instead.\n",
      "\n"
     ]
    },
    {
     "name": "stdout",
     "output_type": "stream",
     "text": [
      "Train on 50000 samples, validate on 10000 samples\n",
      "Epoch 1/100\n",
      "50000/50000 [==============================] - 6s 121us/step - loss: 1.9586 - acc: 0.2937 - val_loss: 1.7719 - val_acc: 0.3665\n",
      "Epoch 2/100\n",
      "50000/50000 [==============================] - 5s 108us/step - loss: 1.7277 - acc: 0.3837 - val_loss: 1.6569 - val_acc: 0.4043\n",
      "Epoch 3/100\n",
      "50000/50000 [==============================] - 5s 107us/step - loss: 1.6409 - acc: 0.4153 - val_loss: 1.6122 - val_acc: 0.4256\n",
      "Epoch 4/100\n",
      "50000/50000 [==============================] - 5s 105us/step - loss: 1.5603 - acc: 0.4447 - val_loss: 1.5609 - val_acc: 0.4434\n",
      "Epoch 5/100\n",
      "50000/50000 [==============================] - 5s 106us/step - loss: 1.5208 - acc: 0.4591 - val_loss: 1.5393 - val_acc: 0.4498\n",
      "Epoch 6/100\n",
      "50000/50000 [==============================] - 5s 108us/step - loss: 1.4734 - acc: 0.4758 - val_loss: 1.5585 - val_acc: 0.4425\n",
      "Epoch 7/100\n",
      "50000/50000 [==============================] - 5s 109us/step - loss: 1.4539 - acc: 0.4809 - val_loss: 1.4962 - val_acc: 0.4666\n",
      "Epoch 8/100\n",
      "50000/50000 [==============================] - 5s 107us/step - loss: 1.4150 - acc: 0.4950 - val_loss: 1.4407 - val_acc: 0.4873\n",
      "Epoch 9/100\n",
      "50000/50000 [==============================] - 6s 112us/step - loss: 1.3848 - acc: 0.5072 - val_loss: 1.4644 - val_acc: 0.4862\n",
      "Epoch 10/100\n",
      "50000/50000 [==============================] - 6s 113us/step - loss: 1.3691 - acc: 0.5118 - val_loss: 1.4193 - val_acc: 0.4986\n",
      "Epoch 11/100\n",
      "50000/50000 [==============================] - 6s 116us/step - loss: 1.3366 - acc: 0.5252 - val_loss: 1.4074 - val_acc: 0.5058\n",
      "Epoch 12/100\n",
      "50000/50000 [==============================] - 6s 118us/step - loss: 1.3158 - acc: 0.5331 - val_loss: 1.4244 - val_acc: 0.5001\n",
      "Epoch 13/100\n",
      "50000/50000 [==============================] - 6s 118us/step - loss: 1.2916 - acc: 0.5425 - val_loss: 1.3822 - val_acc: 0.5135\n",
      "Epoch 14/100\n",
      "50000/50000 [==============================] - 6s 117us/step - loss: 1.2738 - acc: 0.5486 - val_loss: 1.3833 - val_acc: 0.5104\n",
      "Epoch 15/100\n",
      "50000/50000 [==============================] - 6s 113us/step - loss: 1.2491 - acc: 0.5560 - val_loss: 1.3832 - val_acc: 0.5125\n",
      "Epoch 16/100\n",
      "50000/50000 [==============================] - 6s 116us/step - loss: 1.2304 - acc: 0.5627 - val_loss: 1.3668 - val_acc: 0.5182\n",
      "Epoch 17/100\n",
      "50000/50000 [==============================] - 6s 124us/step - loss: 1.2057 - acc: 0.5720 - val_loss: 1.3725 - val_acc: 0.5216\n",
      "Epoch 18/100\n",
      "50000/50000 [==============================] - 7s 148us/step - loss: 1.1837 - acc: 0.5810 - val_loss: 1.3985 - val_acc: 0.5138\n",
      "Epoch 19/100\n",
      "50000/50000 [==============================] - 6s 128us/step - loss: 1.1619 - acc: 0.5876 - val_loss: 1.3767 - val_acc: 0.5194\n",
      "Epoch 20/100\n",
      "50000/50000 [==============================] - 6s 123us/step - loss: 1.1387 - acc: 0.5954 - val_loss: 1.3955 - val_acc: 0.5090\n",
      "Epoch 21/100\n",
      "50000/50000 [==============================] - 7s 130us/step - loss: 1.1202 - acc: 0.6042 - val_loss: 1.3527 - val_acc: 0.5272\n",
      "Epoch 22/100\n",
      "50000/50000 [==============================] - 6s 122us/step - loss: 1.1117 - acc: 0.6061 - val_loss: 1.3645 - val_acc: 0.5219\n",
      "Epoch 23/100\n",
      "50000/50000 [==============================] - 6s 126us/step - loss: 1.0873 - acc: 0.6132 - val_loss: 1.3723 - val_acc: 0.5249\n",
      "Epoch 24/100\n",
      "50000/50000 [==============================] - 6s 124us/step - loss: 1.0787 - acc: 0.6150 - val_loss: 1.4197 - val_acc: 0.5097\n",
      "Epoch 25/100\n",
      "50000/50000 [==============================] - 6s 118us/step - loss: 1.0429 - acc: 0.6318 - val_loss: 1.3757 - val_acc: 0.5263\n",
      "Epoch 26/100\n",
      "50000/50000 [==============================] - 6s 118us/step - loss: 1.0332 - acc: 0.6324 - val_loss: 1.3596 - val_acc: 0.5387\n",
      "Epoch 27/100\n",
      "50000/50000 [==============================] - 6s 120us/step - loss: 1.0102 - acc: 0.6392 - val_loss: 1.3932 - val_acc: 0.5304\n",
      "Epoch 28/100\n",
      "50000/50000 [==============================] - 7s 131us/step - loss: 0.9920 - acc: 0.6487 - val_loss: 1.4299 - val_acc: 0.5213\n",
      "Epoch 29/100\n",
      "50000/50000 [==============================] - 6s 120us/step - loss: 0.9719 - acc: 0.6562 - val_loss: 1.4430 - val_acc: 0.5275\n",
      "Epoch 30/100\n",
      "50000/50000 [==============================] - 6s 122us/step - loss: 0.9555 - acc: 0.6610 - val_loss: 1.4588 - val_acc: 0.5218\n",
      "Epoch 31/100\n",
      "50000/50000 [==============================] - 6s 125us/step - loss: 0.9434 - acc: 0.6651 - val_loss: 1.4211 - val_acc: 0.5259\n",
      "Epoch 32/100\n",
      "50000/50000 [==============================] - 6s 123us/step - loss: 0.9282 - acc: 0.6677 - val_loss: 1.5048 - val_acc: 0.5154\n",
      "Epoch 33/100\n",
      "50000/50000 [==============================] - 6s 124us/step - loss: 0.9140 - acc: 0.6726 - val_loss: 1.4375 - val_acc: 0.5332\n",
      "Epoch 34/100\n",
      "50000/50000 [==============================] - 6s 126us/step - loss: 0.8839 - acc: 0.6844 - val_loss: 1.4539 - val_acc: 0.5280\n",
      "Epoch 35/100\n",
      "50000/50000 [==============================] - 6s 125us/step - loss: 0.8684 - acc: 0.6920 - val_loss: 1.5230 - val_acc: 0.5207\n",
      "Epoch 36/100\n",
      "50000/50000 [==============================] - 6s 127us/step - loss: 0.8500 - acc: 0.6977 - val_loss: 1.4914 - val_acc: 0.5254\n",
      "Epoch 37/100\n",
      "50000/50000 [==============================] - 6s 126us/step - loss: 0.8333 - acc: 0.7035 - val_loss: 1.4873 - val_acc: 0.5356\n",
      "Epoch 38/100\n",
      "50000/50000 [==============================] - 6s 128us/step - loss: 0.8211 - acc: 0.7082 - val_loss: 1.5706 - val_acc: 0.5169\n",
      "Epoch 39/100\n",
      "50000/50000 [==============================] - 6s 127us/step - loss: 0.8006 - acc: 0.7156 - val_loss: 1.5530 - val_acc: 0.5294\n",
      "Epoch 40/100\n",
      "50000/50000 [==============================] - 6s 129us/step - loss: 0.7949 - acc: 0.7159 - val_loss: 1.5516 - val_acc: 0.5278\n",
      "Epoch 41/100\n",
      "50000/50000 [==============================] - 6s 128us/step - loss: 0.7740 - acc: 0.7242 - val_loss: 1.5811 - val_acc: 0.5229\n",
      "Epoch 42/100\n",
      "50000/50000 [==============================] - 7s 130us/step - loss: 0.7582 - acc: 0.7304 - val_loss: 1.6093 - val_acc: 0.5182\n",
      "Epoch 43/100\n",
      "50000/50000 [==============================] - 7s 131us/step - loss: 0.7513 - acc: 0.7307 - val_loss: 1.6173 - val_acc: 0.5207\n",
      "Epoch 44/100\n",
      "50000/50000 [==============================] - 7s 132us/step - loss: 0.7371 - acc: 0.7372 - val_loss: 1.6541 - val_acc: 0.5178\n",
      "Epoch 45/100\n",
      "50000/50000 [==============================] - 7s 130us/step - loss: 0.7177 - acc: 0.7434 - val_loss: 1.6007 - val_acc: 0.5203\n",
      "Epoch 46/100\n",
      "50000/50000 [==============================] - 6s 129us/step - loss: 0.7091 - acc: 0.7483 - val_loss: 1.6625 - val_acc: 0.5208\n",
      "Epoch 47/100\n",
      "50000/50000 [==============================] - 7s 132us/step - loss: 0.6880 - acc: 0.7540 - val_loss: 1.6997 - val_acc: 0.5176\n",
      "Epoch 48/100\n",
      "50000/50000 [==============================] - 7s 131us/step - loss: 0.6864 - acc: 0.7566 - val_loss: 1.6907 - val_acc: 0.5270\n",
      "Epoch 49/100\n",
      "50000/50000 [==============================] - 7s 137us/step - loss: 0.6613 - acc: 0.7643 - val_loss: 1.7324 - val_acc: 0.5148\n",
      "Epoch 50/100\n",
      "50000/50000 [==============================] - 7s 131us/step - loss: 0.6552 - acc: 0.7670 - val_loss: 1.7622 - val_acc: 0.5225\n",
      "Epoch 51/100\n",
      "50000/50000 [==============================] - 6s 129us/step - loss: 0.6467 - acc: 0.7681 - val_loss: 1.8667 - val_acc: 0.5073\n",
      "Epoch 52/100\n",
      "50000/50000 [==============================] - 7s 131us/step - loss: 0.6409 - acc: 0.7695 - val_loss: 1.8040 - val_acc: 0.5190\n",
      "Epoch 53/100\n",
      "50000/50000 [==============================] - 7s 131us/step - loss: 0.6225 - acc: 0.7791 - val_loss: 1.8122 - val_acc: 0.5218\n",
      "Epoch 54/100\n",
      "50000/50000 [==============================] - 7s 134us/step - loss: 0.6069 - acc: 0.7823 - val_loss: 1.9186 - val_acc: 0.5231\n",
      "Epoch 55/100\n",
      "50000/50000 [==============================] - 7s 137us/step - loss: 0.5981 - acc: 0.7865 - val_loss: 1.8991 - val_acc: 0.5107\n",
      "Epoch 56/100\n",
      "50000/50000 [==============================] - 7s 139us/step - loss: 0.5763 - acc: 0.7941 - val_loss: 1.8801 - val_acc: 0.5219\n",
      "Epoch 57/100\n",
      "50000/50000 [==============================] - 7s 139us/step - loss: 0.5676 - acc: 0.7975 - val_loss: 1.9666 - val_acc: 0.5212\n",
      "Epoch 58/100\n",
      "50000/50000 [==============================] - 7s 141us/step - loss: 0.5599 - acc: 0.8012 - val_loss: 1.9424 - val_acc: 0.5096\n",
      "Epoch 59/100\n",
      "50000/50000 [==============================] - 6s 113us/step - loss: 0.5661 - acc: 0.7977 - val_loss: 2.0113 - val_acc: 0.5190\n",
      "Epoch 60/100\n",
      "50000/50000 [==============================] - 6s 113us/step - loss: 0.5473 - acc: 0.8055 - val_loss: 1.9683 - val_acc: 0.5140\n",
      "Epoch 61/100\n",
      "50000/50000 [==============================] - 6s 113us/step - loss: 0.5458 - acc: 0.8041 - val_loss: 2.1023 - val_acc: 0.5088\n",
      "Epoch 62/100\n",
      "50000/50000 [==============================] - 6s 115us/step - loss: 0.5266 - acc: 0.8103 - val_loss: 2.0474 - val_acc: 0.5220\n",
      "Epoch 63/100\n",
      "50000/50000 [==============================] - 8s 150us/step - loss: 0.5060 - acc: 0.8200 - val_loss: 2.0345 - val_acc: 0.5174\n",
      "Epoch 64/100\n",
      "50000/50000 [==============================] - 7s 132us/step - loss: 0.5081 - acc: 0.8189 - val_loss: 2.0904 - val_acc: 0.5164\n",
      "Epoch 65/100\n",
      "50000/50000 [==============================] - 6s 129us/step - loss: 0.4924 - acc: 0.8245 - val_loss: 2.1590 - val_acc: 0.5160\n",
      "Epoch 66/100\n",
      "50000/50000 [==============================] - 8s 164us/step - loss: 0.4936 - acc: 0.8224 - val_loss: 2.1800 - val_acc: 0.5123\n",
      "Epoch 67/100\n",
      "50000/50000 [==============================] - 6s 128us/step - loss: 0.4867 - acc: 0.8262 - val_loss: 2.1747 - val_acc: 0.5104\n",
      "Epoch 68/100\n",
      "50000/50000 [==============================] - 6s 123us/step - loss: 0.4701 - acc: 0.8317 - val_loss: 2.1887 - val_acc: 0.5108\n",
      "Epoch 69/100\n",
      "50000/50000 [==============================] - 6s 125us/step - loss: 0.4647 - acc: 0.8352 - val_loss: 2.2791 - val_acc: 0.5053\n",
      "Epoch 70/100\n",
      "50000/50000 [==============================] - 7s 133us/step - loss: 0.4732 - acc: 0.8309 - val_loss: 2.2953 - val_acc: 0.5120\n",
      "Epoch 71/100\n",
      "50000/50000 [==============================] - 6s 124us/step - loss: 0.4509 - acc: 0.8389 - val_loss: 2.2660 - val_acc: 0.5129\n",
      "Epoch 72/100\n",
      "50000/50000 [==============================] - 6s 129us/step - loss: 0.4404 - acc: 0.8445 - val_loss: 2.3041 - val_acc: 0.5075\n",
      "Epoch 73/100\n",
      "50000/50000 [==============================] - 6s 126us/step - loss: 0.4468 - acc: 0.8392 - val_loss: 2.3526 - val_acc: 0.5117\n",
      "Epoch 74/100\n",
      "50000/50000 [==============================] - 6s 126us/step - loss: 0.4417 - acc: 0.8427 - val_loss: 2.3427 - val_acc: 0.5084\n",
      "Epoch 75/100\n",
      "50000/50000 [==============================] - 6s 129us/step - loss: 0.4181 - acc: 0.8490 - val_loss: 2.4243 - val_acc: 0.5075\n",
      "Epoch 76/100\n",
      "50000/50000 [==============================] - 6s 127us/step - loss: 0.4205 - acc: 0.8493 - val_loss: 2.4428 - val_acc: 0.5073\n",
      "Epoch 77/100\n",
      "50000/50000 [==============================] - 6s 129us/step - loss: 0.4212 - acc: 0.8485 - val_loss: 2.4385 - val_acc: 0.5049\n",
      "Epoch 78/100\n",
      "50000/50000 [==============================] - 6s 128us/step - loss: 0.3911 - acc: 0.8605 - val_loss: 2.5116 - val_acc: 0.5091\n",
      "Epoch 79/100\n",
      "50000/50000 [==============================] - 6s 129us/step - loss: 0.3947 - acc: 0.8583 - val_loss: 2.4247 - val_acc: 0.5132\n",
      "Epoch 80/100\n",
      "50000/50000 [==============================] - 6s 127us/step - loss: 0.4081 - acc: 0.8533 - val_loss: 2.4761 - val_acc: 0.5101\n",
      "Epoch 81/100\n",
      "50000/50000 [==============================] - 6s 128us/step - loss: 0.3760 - acc: 0.8666 - val_loss: 2.5205 - val_acc: 0.5132\n",
      "Epoch 82/100\n",
      "50000/50000 [==============================] - 6s 128us/step - loss: 0.3693 - acc: 0.8672 - val_loss: 2.5273 - val_acc: 0.5114\n",
      "Epoch 83/100\n",
      "50000/50000 [==============================] - 6s 127us/step - loss: 0.3841 - acc: 0.8600 - val_loss: 2.6156 - val_acc: 0.5038\n",
      "Epoch 84/100\n",
      "50000/50000 [==============================] - 7s 132us/step - loss: 0.3732 - acc: 0.8643 - val_loss: 2.5827 - val_acc: 0.5116\n",
      "Epoch 85/100\n",
      "50000/50000 [==============================] - 6s 130us/step - loss: 0.3768 - acc: 0.8644 - val_loss: 2.7746 - val_acc: 0.4966\n",
      "Epoch 86/100\n",
      "50000/50000 [==============================] - 6s 129us/step - loss: 0.3674 - acc: 0.8670 - val_loss: 2.7246 - val_acc: 0.5056\n",
      "Epoch 87/100\n",
      "50000/50000 [==============================] - 6s 130us/step - loss: 0.3460 - acc: 0.8761 - val_loss: 2.8140 - val_acc: 0.4950\n",
      "Epoch 88/100\n",
      "50000/50000 [==============================] - 7s 133us/step - loss: 0.3405 - acc: 0.8780 - val_loss: 2.6882 - val_acc: 0.5010\n",
      "Epoch 89/100\n",
      "50000/50000 [==============================] - 7s 131us/step - loss: 0.3247 - acc: 0.8829 - val_loss: 2.7941 - val_acc: 0.5040\n",
      "Epoch 90/100\n",
      "50000/50000 [==============================] - 7s 133us/step - loss: 0.3493 - acc: 0.8743 - val_loss: 2.6810 - val_acc: 0.5021\n",
      "Epoch 91/100\n",
      "50000/50000 [==============================] - 7s 134us/step - loss: 0.3496 - acc: 0.8732 - val_loss: 2.7622 - val_acc: 0.4994\n",
      "Epoch 92/100\n",
      "50000/50000 [==============================] - 7s 131us/step - loss: 0.3447 - acc: 0.8760 - val_loss: 2.7975 - val_acc: 0.5052\n",
      "Epoch 93/100\n",
      "50000/50000 [==============================] - 7s 133us/step - loss: 0.3364 - acc: 0.8801 - val_loss: 2.8505 - val_acc: 0.4998\n",
      "Epoch 94/100\n",
      "50000/50000 [==============================] - 7s 132us/step - loss: 0.3233 - acc: 0.8832 - val_loss: 2.9025 - val_acc: 0.5019\n",
      "Epoch 95/100\n",
      "50000/50000 [==============================] - 7s 131us/step - loss: 0.3216 - acc: 0.8855 - val_loss: 2.8759 - val_acc: 0.4987\n",
      "Epoch 96/100\n",
      "50000/50000 [==============================] - 7s 132us/step - loss: 0.3111 - acc: 0.8883 - val_loss: 2.8026 - val_acc: 0.5159\n",
      "Epoch 97/100\n",
      "50000/50000 [==============================] - 7s 133us/step - loss: 0.3085 - acc: 0.8879 - val_loss: 2.9775 - val_acc: 0.4995\n",
      "Epoch 98/100\n",
      "50000/50000 [==============================] - 7s 132us/step - loss: 0.3094 - acc: 0.8880 - val_loss: 2.9756 - val_acc: 0.5043\n",
      "Epoch 99/100\n",
      "50000/50000 [==============================] - 6s 128us/step - loss: 0.3009 - acc: 0.8906 - val_loss: 2.9924 - val_acc: 0.5059\n",
      "Epoch 100/100\n",
      "50000/50000 [==============================] - 7s 133us/step - loss: 0.2991 - acc: 0.8934 - val_loss: 2.9702 - val_acc: 0.5104\n"
     ]
    },
    {
     "data": {
      "text/plain": [
       "<keras.callbacks.History at 0x115c31d6358>"
      ]
     },
     "execution_count": 12,
     "metadata": {},
     "output_type": "execute_result"
    }
   ],
   "source": [
    "model.fit(train_x,train_y, epochs=EPOCHS, \n",
    "          batch_size=BATCH_SIZE, validation_data=(test_x,test_y),\n",
    "         shuffle=True)"
   ]
  },
  {
   "cell_type": "code",
   "execution_count": 16,
   "metadata": {},
   "outputs": [
    {
     "data": {
      "image/png": "[encoded data removed]",
      "text/plain": [
       "<Figure size 432x288 with 1 Axes>"
      ]
     },
     "metadata": {
      "needs_background": "light"
     },
     "output_type": "display_data"
    },
    {
     "data": {
      "image/png": "[encoded data removed]",
      "text/plain": [
       "<Figure size 432x288 with 1 Axes>"
      ]
     },
     "metadata": {
      "needs_background": "light"
     },
     "output_type": "display_data"
    }
   ],
   "source": [
    "import matplotlib.pyplot as plt\n",
    "\n",
    "train_loss = model.history.history['loss']\n",
    "valid_loss = model.history.history['val_loss']\n",
    "\n",
    "train_acc = model.history.history['acc']\n",
    "valid_acc = model.history.history['val_acc']\n",
    "\n",
    "plt.plot(range(len(train_loss)),train_loss, label = 'train loss')\n",
    "plt.plot(range(len(valid_loss)),valid_loss, label = 'validation loss')\n",
    "plt.legend()\n",
    "plt.title('Loss')\n",
    "plt.show()\n",
    "\n",
    "plt.plot(range(len(train_acc)),train_acc, label = 'train accuracy')\n",
    "plt.plot(range(len(valid_acc)),valid_acc, label = 'validation accuracy')\n",
    "plt.legend()\n",
    "plt.title('Accuracy')\n",
    "plt.show()"
   ]
  },
  {
   "cell_type": "markdown",
   "metadata": {},
   "source": [
    "# Work\n",
    "1. 請嘗試將 preproc_x 替換成以每筆資料的 min/max 進行標準化至 -1 ~ 1 間，再進行訓練\n",
    "2. 請嘗試將 mlp 疊更深 (e.g 5~10 層)，進行訓練後觀察 learning curve 的走勢\n",
    "3. (optional) 請改用 GPU 進行訓練 (如果你有 GPU 的話)，比較使用 CPU 與 GPU 的訓練速度"
   ]
  },
  {
   "cell_type": "code",
   "execution_count": 40,
   "metadata": {},
   "outputs": [],
   "source": [
    "# set GPU\n",
    "#https://blog.csdn.net/byron123456sfsfsfa/article/details/79811286\n",
    "import tensorflow as tf\n",
    "\n",
    "gpu_options = tf.GPUOptions(allow_growth=True)\n",
    "sess = tf.Session(config=tf.ConfigProto(gpu_options= gpu_options))\n",
    "\n",
    "tf.keras.backend.set_session(sess)"
   ]
  },
  {
   "cell_type": "code",
   "execution_count": 29,
   "metadata": {},
   "outputs": [],
   "source": [
    "(train_x,train_y),(test_x,test_y) = keras.datasets.cifar10.load_data()"
   ]
  },
  {
   "cell_type": "code",
   "execution_count": 30,
   "metadata": {},
   "outputs": [],
   "source": [
    "#建立函式來前處理資料\n",
    "def preproc_x(x, flatten = True):\n",
    "    x = -1+(x-x.min())/(x.max()-x.min())*2\n",
    "    if flatten:\n",
    "        x = x.reshape(len(x),-1)\n",
    "    return x\n",
    "def preproc_y(y, num_classes =10):\n",
    "    if y.shape[-1]==1:\n",
    "        y = keras.utils.to_categorical(y,num_classes=num_classes)\n",
    "    return y"
   ]
  },
  {
   "cell_type": "code",
   "execution_count": 31,
   "metadata": {},
   "outputs": [],
   "source": [
    "train_x = preproc_x(train_x)\n",
    "test_x = preproc_x(test_x)\n",
    "\n",
    "train_y = preproc_y(train_y)\n",
    "test_y = preproc_y(test_y)"
   ]
  },
  {
   "cell_type": "code",
   "execution_count": 36,
   "metadata": {},
   "outputs": [
    {
     "name": "stdout",
     "output_type": "stream",
     "text": [
      "_________________________________________________________________\n",
      "Layer (type)                 Output Shape              Param #   \n",
      "=================================================================\n",
      "input_4 (InputLayer)         (None, 3072)              0         \n",
      "_________________________________________________________________\n",
      "hidden_layer1 (Dense)        (None, 512)               1573376   \n",
      "_________________________________________________________________\n",
      "hidden_layer2 (Dense)        (None, 256)               131328    \n",
      "_________________________________________________________________\n",
      "hidden_layer3 (Dense)        (None, 128)               32896     \n",
      "_________________________________________________________________\n",
      "hidden_layer4 (Dense)        (None, 64)                8256      \n",
      "_________________________________________________________________\n",
      "hidden_layer5 (Dense)        (None, 128)               8320      \n",
      "_________________________________________________________________\n",
      "hidden_layer6 (Dense)        (None, 256)               33024     \n",
      "_________________________________________________________________\n",
      "hidden_layer7 (Dense)        (None, 512)               131584    \n",
      "_________________________________________________________________\n",
      "output (Dense)               (None, 10)                5130      \n",
      "=================================================================\n",
      "Total params: 1,923,914\n",
      "Trainable params: 1,923,914\n",
      "Non-trainable params: 0\n",
      "_________________________________________________________________\n"
     ]
    }
   ],
   "source": [
    "model = build_mpl(input_shape=train_x.shape[1:], num_neurons=[512,256,128,64,128,256,512])\n",
    "model.summary()"
   ]
  },
  {
   "cell_type": "code",
   "execution_count": 37,
   "metadata": {},
   "outputs": [],
   "source": [
    "opt = keras.optimizers.Adam(lr = LEARNING_RATE)\n",
    "model.compile(optimizer=opt, loss='categorical_crossentropy', metrics=['accuracy'])"
   ]
  },
  {
   "cell_type": "code",
   "execution_count": 38,
   "metadata": {},
   "outputs": [
    {
     "name": "stdout",
     "output_type": "stream",
     "text": [
      "Train on 50000 samples, validate on 10000 samples\n",
      "Epoch 1/100\n",
      "50000/50000 [==============================] - 7s 140us/step - loss: 1.7225 - acc: 0.3833 - val_loss: 1.5637 - val_acc: 0.4484\n",
      "Epoch 2/100\n",
      "50000/50000 [==============================] - 6s 123us/step - loss: 1.4897 - acc: 0.4716 - val_loss: 1.4579 - val_acc: 0.4782\n",
      "Epoch 3/100\n",
      "50000/50000 [==============================] - 7s 134us/step - loss: 1.3685 - acc: 0.5192 - val_loss: 1.3950 - val_acc: 0.5049\n",
      "Epoch 4/100\n",
      "50000/50000 [==============================] - 6s 126us/step - loss: 1.2723 - acc: 0.5505 - val_loss: 1.4076 - val_acc: 0.5093\n",
      "Epoch 5/100\n",
      "50000/50000 [==============================] - 7s 133us/step - loss: 1.1941 - acc: 0.5775 - val_loss: 1.3625 - val_acc: 0.5199\n",
      "Epoch 6/100\n",
      "50000/50000 [==============================] - 6s 124us/step - loss: 1.1236 - acc: 0.6027 - val_loss: 1.3509 - val_acc: 0.5335\n",
      "Epoch 7/100\n",
      "50000/50000 [==============================] - 6s 122us/step - loss: 1.0495 - acc: 0.6279 - val_loss: 1.3338 - val_acc: 0.5342\n",
      "Epoch 8/100\n",
      "50000/50000 [==============================] - 6s 120us/step - loss: 0.9893 - acc: 0.6507 - val_loss: 1.4085 - val_acc: 0.5214\n",
      "Epoch 9/100\n",
      "50000/50000 [==============================] - 6s 119us/step - loss: 0.9254 - acc: 0.6727 - val_loss: 1.4020 - val_acc: 0.5268\n",
      "Epoch 10/100\n",
      "50000/50000 [==============================] - 6s 121us/step - loss: 0.8660 - acc: 0.6911 - val_loss: 1.4398 - val_acc: 0.5249\n",
      "Epoch 11/100\n",
      "50000/50000 [==============================] - 6s 121us/step - loss: 0.8086 - acc: 0.7120 - val_loss: 1.4926 - val_acc: 0.5293\n",
      "Epoch 12/100\n",
      "50000/50000 [==============================] - 6s 122us/step - loss: 0.7533 - acc: 0.7323 - val_loss: 1.4938 - val_acc: 0.5394\n",
      "Epoch 13/100\n",
      "50000/50000 [==============================] - 6s 120us/step - loss: 0.6997 - acc: 0.7529 - val_loss: 1.5915 - val_acc: 0.5285\n",
      "Epoch 14/100\n",
      "50000/50000 [==============================] - 6s 121us/step - loss: 0.6560 - acc: 0.7671 - val_loss: 1.6304 - val_acc: 0.5339\n",
      "Epoch 15/100\n",
      "50000/50000 [==============================] - 6s 120us/step - loss: 0.6157 - acc: 0.7818 - val_loss: 1.6165 - val_acc: 0.5355\n",
      "Epoch 16/100\n",
      "50000/50000 [==============================] - 6s 119us/step - loss: 0.5695 - acc: 0.7960 - val_loss: 1.7477 - val_acc: 0.5392\n",
      "Epoch 17/100\n",
      "50000/50000 [==============================] - 6s 125us/step - loss: 0.5352 - acc: 0.8088 - val_loss: 1.8221 - val_acc: 0.5233\n",
      "Epoch 18/100\n",
      "50000/50000 [==============================] - 7s 137us/step - loss: 0.5021 - acc: 0.8214 - val_loss: 1.8663 - val_acc: 0.5324\n",
      "Epoch 19/100\n",
      "50000/50000 [==============================] - 7s 141us/step - loss: 0.4705 - acc: 0.8329 - val_loss: 1.9747 - val_acc: 0.5339\n",
      "Epoch 20/100\n",
      "50000/50000 [==============================] - 7s 143us/step - loss: 0.4373 - acc: 0.8457 - val_loss: 2.0191 - val_acc: 0.5309\n",
      "Epoch 21/100\n",
      "50000/50000 [==============================] - 7s 137us/step - loss: 0.4061 - acc: 0.8576 - val_loss: 2.0029 - val_acc: 0.5288\n",
      "Epoch 22/100\n",
      "50000/50000 [==============================] - 7s 142us/step - loss: 0.3855 - acc: 0.8640 - val_loss: 2.1471 - val_acc: 0.5266\n",
      "Epoch 23/100\n",
      "50000/50000 [==============================] - 7s 136us/step - loss: 0.3620 - acc: 0.8726 - val_loss: 2.1272 - val_acc: 0.5394\n",
      "Epoch 24/100\n",
      "50000/50000 [==============================] - 7s 143us/step - loss: 0.3519 - acc: 0.8776 - val_loss: 2.1280 - val_acc: 0.5322\n",
      "Epoch 25/100\n",
      "50000/50000 [==============================] - 7s 139us/step - loss: 0.3248 - acc: 0.8862 - val_loss: 2.2951 - val_acc: 0.5275\n",
      "Epoch 26/100\n",
      "50000/50000 [==============================] - 7s 139us/step - loss: 0.3057 - acc: 0.8933 - val_loss: 2.1999 - val_acc: 0.5346\n",
      "Epoch 27/100\n",
      "50000/50000 [==============================] - 7s 139us/step - loss: 0.2951 - acc: 0.8963 - val_loss: 2.3241 - val_acc: 0.5353\n",
      "Epoch 28/100\n",
      "50000/50000 [==============================] - 7s 138us/step - loss: 0.2777 - acc: 0.9034 - val_loss: 2.4396 - val_acc: 0.5374\n",
      "Epoch 29/100\n",
      "50000/50000 [==============================] - 8s 150us/step - loss: 0.2579 - acc: 0.9112 - val_loss: 2.6126 - val_acc: 0.5341\n",
      "Epoch 30/100\n",
      "50000/50000 [==============================] - 7s 141us/step - loss: 0.2469 - acc: 0.9151 - val_loss: 2.5783 - val_acc: 0.5322\n",
      "Epoch 31/100\n",
      "50000/50000 [==============================] - 7s 142us/step - loss: 0.2453 - acc: 0.9127 - val_loss: 2.6368 - val_acc: 0.5280\n",
      "Epoch 32/100\n",
      "50000/50000 [==============================] - 7s 143us/step - loss: 0.2227 - acc: 0.9228 - val_loss: 2.5988 - val_acc: 0.5326\n",
      "Epoch 33/100\n",
      "50000/50000 [==============================] - 7s 145us/step - loss: 0.2177 - acc: 0.9246 - val_loss: 2.7438 - val_acc: 0.5345\n",
      "Epoch 34/100\n",
      "50000/50000 [==============================] - 7s 144us/step - loss: 0.2136 - acc: 0.9250 - val_loss: 2.7760 - val_acc: 0.5325\n",
      "Epoch 35/100\n",
      "50000/50000 [==============================] - 7s 146us/step - loss: 0.2042 - acc: 0.9291 - val_loss: 2.6260 - val_acc: 0.5344\n",
      "Epoch 36/100\n",
      "50000/50000 [==============================] - 7s 148us/step - loss: 0.2057 - acc: 0.9290 - val_loss: 2.6948 - val_acc: 0.5255\n",
      "Epoch 37/100\n",
      "50000/50000 [==============================] - 7s 149us/step - loss: 0.1848 - acc: 0.9366 - val_loss: 2.9115 - val_acc: 0.5361\n",
      "Epoch 38/100\n",
      "50000/50000 [==============================] - 7s 148us/step - loss: 0.1841 - acc: 0.9378 - val_loss: 2.8448 - val_acc: 0.5368\n",
      "Epoch 39/100\n",
      "50000/50000 [==============================] - 7s 148us/step - loss: 0.1823 - acc: 0.9372 - val_loss: 2.6558 - val_acc: 0.5303\n",
      "Epoch 40/100\n",
      "50000/50000 [==============================] - 7s 148us/step - loss: 0.1751 - acc: 0.9396 - val_loss: 2.8987 - val_acc: 0.5288\n",
      "Epoch 41/100\n",
      "50000/50000 [==============================] - 7s 148us/step - loss: 0.1585 - acc: 0.9463 - val_loss: 2.9112 - val_acc: 0.5273\n",
      "Epoch 42/100\n",
      "50000/50000 [==============================] - 7s 149us/step - loss: 0.1656 - acc: 0.9434 - val_loss: 2.9003 - val_acc: 0.5202\n",
      "Epoch 43/100\n",
      "50000/50000 [==============================] - 8s 152us/step - loss: 0.1612 - acc: 0.9433 - val_loss: 2.6821 - val_acc: 0.5438\n",
      "Epoch 44/100\n",
      "50000/50000 [==============================] - 8s 153us/step - loss: 0.1559 - acc: 0.9470 - val_loss: 3.0342 - val_acc: 0.5319\n",
      "Epoch 45/100\n",
      "50000/50000 [==============================] - 8s 151us/step - loss: 0.1453 - acc: 0.9495 - val_loss: 3.0129 - val_acc: 0.5341\n",
      "Epoch 46/100\n",
      "50000/50000 [==============================] - 8s 156us/step - loss: 0.1446 - acc: 0.9507 - val_loss: 2.9464 - val_acc: 0.5328\n",
      "Epoch 47/100\n",
      "50000/50000 [==============================] - 8s 151us/step - loss: 0.1432 - acc: 0.9520 - val_loss: 3.0702 - val_acc: 0.5285\n",
      "Epoch 48/100\n",
      "50000/50000 [==============================] - 8s 154us/step - loss: 0.1388 - acc: 0.9525 - val_loss: 2.9337 - val_acc: 0.5251\n",
      "Epoch 49/100\n",
      "50000/50000 [==============================] - 8s 151us/step - loss: 0.1397 - acc: 0.9524 - val_loss: 3.1260 - val_acc: 0.5256\n",
      "Epoch 50/100\n",
      "50000/50000 [==============================] - 8s 157us/step - loss: 0.1314 - acc: 0.9544 - val_loss: 3.1537 - val_acc: 0.5317\n",
      "Epoch 51/100\n",
      "50000/50000 [==============================] - 8s 157us/step - loss: 0.1316 - acc: 0.9561 - val_loss: 3.0564 - val_acc: 0.5291\n",
      "Epoch 52/100\n",
      "50000/50000 [==============================] - 8s 161us/step - loss: 0.1260 - acc: 0.9574 - val_loss: 3.0606 - val_acc: 0.5285\n",
      "Epoch 53/100\n",
      "50000/50000 [==============================] - 8s 157us/step - loss: 0.1252 - acc: 0.9571 - val_loss: 3.1677 - val_acc: 0.5357\n",
      "Epoch 54/100\n",
      "50000/50000 [==============================] - 8s 155us/step - loss: 0.1217 - acc: 0.9578 - val_loss: 3.1379 - val_acc: 0.5197\n",
      "Epoch 55/100\n",
      "50000/50000 [==============================] - 8s 157us/step - loss: 0.1282 - acc: 0.9574 - val_loss: 3.1039 - val_acc: 0.5310\n",
      "Epoch 56/100\n",
      "50000/50000 [==============================] - 8s 159us/step - loss: 0.1137 - acc: 0.9618 - val_loss: 3.1058 - val_acc: 0.5380\n",
      "Epoch 57/100\n",
      "50000/50000 [==============================] - 8s 158us/step - loss: 0.1160 - acc: 0.9612 - val_loss: 3.1621 - val_acc: 0.5303\n",
      "Epoch 58/100\n",
      "50000/50000 [==============================] - 8s 162us/step - loss: 0.1127 - acc: 0.9626 - val_loss: 3.2687 - val_acc: 0.5302\n",
      "Epoch 59/100\n",
      "50000/50000 [==============================] - 6s 129us/step - loss: 0.1255 - acc: 0.9580 - val_loss: 3.0755 - val_acc: 0.5333\n",
      "Epoch 60/100\n",
      "50000/50000 [==============================] - 6s 129us/step - loss: 0.1122 - acc: 0.9628 - val_loss: 3.0288 - val_acc: 0.5262\n",
      "Epoch 61/100\n",
      "50000/50000 [==============================] - 6s 129us/step - loss: 0.1093 - acc: 0.9623 - val_loss: 3.1548 - val_acc: 0.5359\n",
      "Epoch 62/100\n",
      "50000/50000 [==============================] - 7s 142us/step - loss: 0.1089 - acc: 0.9634 - val_loss: 3.2901 - val_acc: 0.5305\n",
      "Epoch 63/100\n",
      "50000/50000 [==============================] - 6s 129us/step - loss: 0.1028 - acc: 0.9654 - val_loss: 3.5372 - val_acc: 0.5246\n",
      "Epoch 64/100\n",
      "50000/50000 [==============================] - 7s 132us/step - loss: 0.1025 - acc: 0.9664 - val_loss: 3.3152 - val_acc: 0.5313\n",
      "Epoch 65/100\n",
      "50000/50000 [==============================] - 7s 133us/step - loss: 0.1021 - acc: 0.9658 - val_loss: 3.3619 - val_acc: 0.5313\n",
      "Epoch 66/100\n",
      "50000/50000 [==============================] - 7s 133us/step - loss: 0.1090 - acc: 0.9643 - val_loss: 3.3122 - val_acc: 0.5265\n",
      "Epoch 67/100\n",
      "50000/50000 [==============================] - 7s 133us/step - loss: 0.0987 - acc: 0.9678 - val_loss: 3.4503 - val_acc: 0.5286\n",
      "Epoch 68/100\n",
      "50000/50000 [==============================] - 7s 133us/step - loss: 0.1073 - acc: 0.9640 - val_loss: 3.3250 - val_acc: 0.5307\n",
      "Epoch 69/100\n",
      "50000/50000 [==============================] - 7s 135us/step - loss: 0.0968 - acc: 0.9688 - val_loss: 3.3066 - val_acc: 0.5345\n",
      "Epoch 70/100\n",
      "50000/50000 [==============================] - 7s 144us/step - loss: 0.0985 - acc: 0.9664 - val_loss: 3.4013 - val_acc: 0.5334\n",
      "Epoch 71/100\n",
      "50000/50000 [==============================] - 7s 144us/step - loss: 0.0929 - acc: 0.9691 - val_loss: 3.4385 - val_acc: 0.5274\n",
      "Epoch 72/100\n",
      "50000/50000 [==============================] - 8s 163us/step - loss: 0.0973 - acc: 0.9683 - val_loss: 3.3460 - val_acc: 0.5272\n",
      "Epoch 73/100\n",
      "50000/50000 [==============================] - 7s 146us/step - loss: 0.0969 - acc: 0.9680 - val_loss: 3.2578 - val_acc: 0.5352\n",
      "Epoch 74/100\n",
      "50000/50000 [==============================] - 7s 145us/step - loss: 0.0828 - acc: 0.9731 - val_loss: 3.3338 - val_acc: 0.5287\n",
      "Epoch 75/100\n",
      "50000/50000 [==============================] - 7s 146us/step - loss: 0.1014 - acc: 0.9661 - val_loss: 3.2113 - val_acc: 0.5317\n",
      "Epoch 76/100\n",
      "50000/50000 [==============================] - 7s 148us/step - loss: 0.0938 - acc: 0.9701 - val_loss: 3.2492 - val_acc: 0.5265\n",
      "Epoch 77/100\n",
      "50000/50000 [==============================] - 7s 147us/step - loss: 0.0877 - acc: 0.9706 - val_loss: 3.2604 - val_acc: 0.5295\n",
      "Epoch 78/100\n",
      "50000/50000 [==============================] - 7s 148us/step - loss: 0.0855 - acc: 0.9718 - val_loss: 3.5171 - val_acc: 0.5292\n",
      "Epoch 79/100\n",
      "50000/50000 [==============================] - 8s 150us/step - loss: 0.0864 - acc: 0.9711 - val_loss: 3.4652 - val_acc: 0.5338\n",
      "Epoch 80/100\n",
      "50000/50000 [==============================] - 8s 153us/step - loss: 0.0918 - acc: 0.9701 - val_loss: 3.3611 - val_acc: 0.5255\n",
      "Epoch 81/100\n",
      "50000/50000 [==============================] - 8s 153us/step - loss: 0.0817 - acc: 0.9736 - val_loss: 3.4284 - val_acc: 0.5265\n",
      "Epoch 82/100\n",
      "50000/50000 [==============================] - 8s 155us/step - loss: 0.0878 - acc: 0.9716 - val_loss: 3.4269 - val_acc: 0.5318\n",
      "Epoch 83/100\n",
      "50000/50000 [==============================] - 8s 153us/step - loss: 0.0856 - acc: 0.9719 - val_loss: 3.4188 - val_acc: 0.5375\n",
      "Epoch 84/100\n",
      "50000/50000 [==============================] - 8s 151us/step - loss: 0.0821 - acc: 0.9732 - val_loss: 3.2200 - val_acc: 0.5255\n",
      "Epoch 85/100\n",
      "50000/50000 [==============================] - 8s 163us/step - loss: 0.0798 - acc: 0.9740 - val_loss: 3.4663 - val_acc: 0.5375\n",
      "Epoch 86/100\n",
      "50000/50000 [==============================] - 8s 157us/step - loss: 0.0838 - acc: 0.9733 - val_loss: 3.5926 - val_acc: 0.5365\n",
      "Epoch 87/100\n",
      "50000/50000 [==============================] - 9s 172us/step - loss: 0.0761 - acc: 0.9749 - val_loss: 3.4423 - val_acc: 0.5331\n",
      "Epoch 88/100\n",
      "50000/50000 [==============================] - 8s 158us/step - loss: 0.0808 - acc: 0.9734 - val_loss: 3.3887 - val_acc: 0.5308\n",
      "Epoch 89/100\n",
      "50000/50000 [==============================] - 9s 176us/step - loss: 0.0813 - acc: 0.9734 - val_loss: 3.4990 - val_acc: 0.5317\n",
      "Epoch 90/100\n",
      "50000/50000 [==============================] - 8s 169us/step - loss: 0.0719 - acc: 0.9769 - val_loss: 3.3778 - val_acc: 0.5339\n",
      "Epoch 91/100\n",
      "50000/50000 [==============================] - 9s 177us/step - loss: 0.0740 - acc: 0.9762 - val_loss: 3.4385 - val_acc: 0.5317\n",
      "Epoch 92/100\n",
      "50000/50000 [==============================] - 8s 157us/step - loss: 0.0783 - acc: 0.9739 - val_loss: 3.4138 - val_acc: 0.5317\n",
      "Epoch 93/100\n",
      "50000/50000 [==============================] - 8s 152us/step - loss: 0.0774 - acc: 0.9744 - val_loss: 3.4311 - val_acc: 0.5319\n",
      "Epoch 94/100\n",
      "50000/50000 [==============================] - 9s 173us/step - loss: 0.0708 - acc: 0.9767 - val_loss: 3.5028 - val_acc: 0.5333\n",
      "Epoch 95/100\n",
      "50000/50000 [==============================] - 8s 154us/step - loss: 0.0803 - acc: 0.9731 - val_loss: 3.3740 - val_acc: 0.5267\n",
      "Epoch 96/100\n",
      "50000/50000 [==============================] - 8s 159us/step - loss: 0.0739 - acc: 0.9765 - val_loss: 3.5519 - val_acc: 0.5311\n",
      "Epoch 97/100\n",
      "50000/50000 [==============================] - 8s 154us/step - loss: 0.0809 - acc: 0.9742 - val_loss: 3.4487 - val_acc: 0.5325\n",
      "Epoch 98/100\n",
      "50000/50000 [==============================] - 8s 157us/step - loss: 0.0649 - acc: 0.9786 - val_loss: 3.6071 - val_acc: 0.5371\n",
      "Epoch 99/100\n",
      "50000/50000 [==============================] - 8s 153us/step - loss: 0.0695 - acc: 0.9777 - val_loss: 3.6912 - val_acc: 0.5324\n",
      "Epoch 100/100\n",
      "50000/50000 [==============================] - 8s 154us/step - loss: 0.0635 - acc: 0.9791 - val_loss: 3.4992 - val_acc: 0.5260\n"
     ]
    },
    {
     "data": {
      "text/plain": [
       "<keras.callbacks.History at 0x1160ebb9b00>"
      ]
     },
     "execution_count": 38,
     "metadata": {},
     "output_type": "execute_result"
    }
   ],
   "source": [
    "## 超參數設定\n",
    "LEARNING_RATE = 0.001\n",
    "EPOCHS = 100\n",
    "BATCH_SIZE = 256\n",
    "model.fit(train_x,train_y, epochs=EPOCHS, \n",
    "          batch_size=BATCH_SIZE, validation_data=(test_x,test_y),\n",
    "         shuffle=True)"
   ]
  },
  {
   "cell_type": "code",
   "execution_count": 39,
   "metadata": {},
   "outputs": [
    {
     "data": {
      "image/png": "[encoded data removed]",
      "text/plain": [
       "<Figure size 432x288 with 1 Axes>"
      ]
     },
     "metadata": {
      "needs_background": "light"
     },
     "output_type": "display_data"
    },
    {
     "data": {
      "image/png": "[encoded data removed]",
      "text/plain": [
       "<Figure size 432x288 with 1 Axes>"
      ]
     },
     "metadata": {
      "needs_background": "light"
     },
     "output_type": "display_data"
    }
   ],
   "source": [
    "import matplotlib.pyplot as plt\n",
    "\n",
    "train_loss = model.history.history['loss']\n",
    "valid_loss = model.history.history['val_loss']\n",
    "\n",
    "train_acc = model.history.history['acc']\n",
    "valid_acc = model.history.history['val_acc']\n",
    "\n",
    "plt.plot(range(len(train_loss)),train_loss, label = 'train loss')\n",
    "plt.plot(range(len(valid_loss)),valid_loss, label = 'validation loss')\n",
    "plt.legend()\n",
    "plt.title('Loss')\n",
    "plt.show()\n",
    "\n",
    "plt.plot(range(len(train_acc)),train_acc, label = 'train accuracy')\n",
    "plt.plot(range(len(valid_acc)),valid_acc, label = 'validation accuracy')\n",
    "plt.legend()\n",
    "plt.title('Accuracy')\n",
    "plt.show()"
   ]
  },
  {
   "cell_type": "code",
   "execution_count": null,
   "metadata": {},
   "outputs": [],
   "source": []
  }
 ],
 "metadata": {
  "kernelspec": {
   "display_name": "Python 3",
   "language": "python",
   "name": "python3"
  },
  "language_info": {
   "codemirror_mode": {
    "name": "ipython",
    "version": 3
   },
   "file_extension": ".py",
   "mimetype": "text/x-python",
   "name": "python",
   "nbconvert_exporter": "python",
   "pygments_lexer": "ipython3",
   "version": "3.6.9"
  }
 },
 "nbformat": 4,
 "nbformat_minor": 2
}
